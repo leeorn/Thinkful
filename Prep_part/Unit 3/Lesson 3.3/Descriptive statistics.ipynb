{
 "cells": [
  {
   "cell_type": "code",
   "execution_count": 2,
   "metadata": {},
   "outputs": [],
   "source": [
    "import numpy as np\n",
    "import pandas as pd\n",
    "import matplotlib.pyplot as plt\n",
    "%matplotlib inline"
   ]
  },
  {
   "cell_type": "code",
   "execution_count": 6,
   "metadata": {},
   "outputs": [],
   "source": [
    "noraml_dis = np.random.normal(30, 5, 100)"
   ]
  },
  {
   "cell_type": "code",
   "execution_count": 7,
   "metadata": {},
   "outputs": [
    {
     "data": {
      "image/png": "[encoded data removed]",
      "text/plain": [
       "<Figure size 432x288 with 1 Axes>"
      ]
     },
     "metadata": {
      "needs_background": "light"
     },
     "output_type": "display_data"
    }
   ],
   "source": [
    "plt.hist(noraml_dis)\n",
    "plt.show()"
   ]
  },
  {
   "cell_type": "code",
   "execution_count": 34,
   "metadata": {},
   "outputs": [
    {
     "data": {
      "text/plain": [
       "18.01"
      ]
     },
     "execution_count": 34,
     "metadata": {},
     "output_type": "execute_result"
    }
   ],
   "source": [
    "np.mean(noraml_dis)"
   ]
  },
  {
   "cell_type": "code",
   "execution_count": 35,
   "metadata": {},
   "outputs": [],
   "source": [
    "var = np.var(noraml_dis)\n",
    "std = var ** 0.5"
   ]
  },
  {
   "cell_type": "code",
   "execution_count": 36,
   "metadata": {},
   "outputs": [
    {
     "name": "stdout",
     "output_type": "stream",
     "text": [
      "2.578740002404275\n"
     ]
    }
   ],
   "source": [
    "print(std)"
   ]
  },
  {
   "cell_type": "code",
   "execution_count": 37,
   "metadata": {},
   "outputs": [
    {
     "data": {
      "image/png": "[encoded data removed]",
      "text/plain": [
       "<Figure size 432x288 with 1 Axes>"
      ]
     },
     "metadata": {
      "needs_background": "light"
     },
     "output_type": "display_data"
    }
   ],
   "source": [
    "# Change the histogram to have more bins\n",
    "plt.hist(noraml_dis, bins = 10)\n",
    "\n",
    "# add a vertical mean line\n",
    "plt.axvline(noraml_dis.mean(), color = \"black\", linewidth = 1)\n",
    "\n",
    "# add a vertical line at the first from the right std (above mean)\n",
    "plt.axvline(noraml_dis.mean() + std, color = \"black\", linestyle = 'dashed', linewidth = 1)\n",
    "\n",
    "# add a vertical line at the first from the left std (below mean)\n",
    "plt.axvline(noraml_dis.mean() - std, color = \"black\", linestyle = 'dashed', linewidth = 1)\n",
    "\n",
    "# print\n",
    "plt.show()"
   ]
  },
  {
   "cell_type": "markdown",
   "metadata": {},
   "source": [
    "###### question 4:\n",
    "The provided statistics are not useful since the std is very high, and as can see from the above graph; most of the data is in the lower half of the mean. Therefore, this dataset is not useful. "
   ]
  },
  {
   "cell_type": "code",
   "execution_count": 16,
   "metadata": {},
   "outputs": [],
   "source": [
    "# second part\n",
    "# first noramlly-distributed with mean = 5, std = 0.5\n",
    "norm1 = np.random.normal(5, 0.5, 1000)\n",
    "\n",
    "# second noramlly-distributed with mean = 10, std = 1\n",
    "norm2 = np.random.normal(10, 1, 1000)"
   ]
  },
  {
   "cell_type": "code",
   "execution_count": 22,
   "metadata": {},
   "outputs": [],
   "source": [
    "added_norm = norm1 + norm2"
   ]
  },
  {
   "cell_type": "code",
   "execution_count": 24,
   "metadata": {},
   "outputs": [
    {
     "data": {
      "image/png": "[encoded data removed]",
      "text/plain": [
       "<Figure size 432x288 with 1 Axes>"
      ]
     },
     "metadata": {
      "needs_background": "light"
     },
     "output_type": "display_data"
    }
   ],
   "source": [
    "plt.hist(added_norm)\n",
    "\n",
    "# add a vertical mean line\n",
    "plt.axvline(added_norm.mean(), color = \"black\", linewidth = 1)\n",
    "\n",
    "# add a vertical line at the first from the right std (above mean)\n",
    "plt.axvline(added_norm.mean() + added_norm.std(), color = \"red\", linestyle = 'dashed', linewidth = 1)\n",
    "\n",
    "# add a vertical line at the first from the left std (below mean)\n",
    "plt.axvline(added_norm.mean() - added_norm.std(), color = \"red\", linestyle = 'dashed', linewidth = 1)\n",
    "\n",
    "# print\n",
    "plt.show()"
   ]
  },
  {
   "cell_type": "markdown",
   "metadata": {},
   "source": [
    "##### Question 5:\n",
    "In the above graph, it can be shown that the data is much more useful. The std value is much closer to the mean, the mean itself lays at the middle and the sum of the values on the right-hand side, and the sum of the values on the left-hand side is about 0 like it should be"
   ]
  },
  {
   "cell_type": "code",
   "execution_count": null,
   "metadata": {},
   "outputs": [],
   "source": []
  }
 ],
 "metadata": {
  "kernelspec": {
   "display_name": "Python 3",
   "language": "python",
   "name": "python3"
  },
  "language_info": {
   "codemirror_mode": {
    "name": "ipython",
    "version": 3
   },
   "file_extension": ".py",
   "mimetype": "text/x-python",
   "name": "python",
   "nbconvert_exporter": "python",
   "pygments_lexer": "ipython3",
   "version": "3.6.7"
  }
 },
 "nbformat": 4,
 "nbformat_minor": 2
}
