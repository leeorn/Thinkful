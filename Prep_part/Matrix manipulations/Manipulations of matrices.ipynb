{
 "cells": [
  {
   "cell_type": "markdown",
   "metadata": {},
   "source": [
    "Functions to do \n",
    "- matrix addition\n",
    "- matrix subtraction\n",
    "- matrix scalar multiplication\n",
    "- matrix multiplication\n",
    "- find inverse of a matrix"
   ]
  },
  {
   "cell_type": "code",
   "execution_count": 1,
   "metadata": {},
   "outputs": [],
   "source": [
    "import numpy as np\n",
    "import time"
   ]
  },
  {
   "cell_type": "code",
   "execution_count": 2,
   "metadata": {},
   "outputs": [],
   "source": [
    "a = [[1, 2], [3, 4], [3, 4]]\n",
    "b = [[5, 6], [7, 8], [1, 2]]"
   ]
  },
  {
   "cell_type": "code",
   "execution_count": 3,
   "metadata": {},
   "outputs": [
    {
     "name": "stdout",
     "output_type": "stream",
     "text": [
      "This function took 418.2027507585655 nano seconds\n",
      "[[6, 8], [10, 12], [4, 6]]\n"
     ]
    }
   ],
   "source": [
    "# Adding the 2 given matrices if possible\n",
    "t_start = time.clock()\n",
    "def addition(matrix1, matrix2):\n",
    "    if np.shape(matrix1) == np.shape(matrix2):          # check if they're the same size\n",
    "        new_matrix = []                                 # create an empty list\n",
    "\n",
    "        for row in range(len(matrix1)):                 # go through the row length\n",
    "            new_matrix.append([])                       # create a new list, in side that position\n",
    "            for col in range(len(matrix1[row])):        # go number by number and add them\n",
    "                 new_matrix[row].append(matrix1[row][col] + matrix2[row][col])\n",
    "\n",
    "    return new_matrix\n",
    "\n",
    "t_end = time.clock()\n",
    "t_total = (t_end - t_start) * (10 ** 6)\n",
    "\n",
    "print(\"This function took {} nano seconds\".format(t_total))\n",
    "\n",
    "c = addition(a, b)\n",
    "print(c)"
   ]
  },
  {
   "cell_type": "code",
   "execution_count": 4,
   "metadata": {},
   "outputs": [
    {
     "name": "stdout",
     "output_type": "stream",
     "text": [
      "This function took 427.72338673705 nano seconds\n",
      "[[5, 10], [15, 20], [15, 20]]\n"
     ]
    }
   ],
   "source": [
    "# Multiply the given matrix with a given scalar\n",
    "t_start = time.clock()\n",
    "def scalar_multi(matrix, num):\n",
    "    if type(num) == int or type(num) == float:\n",
    "        new_matrix = []\n",
    "        for row in range(len(matrix)):\n",
    "            new_matrix.append([])\n",
    "            for col in range(len(matrix[row])):\n",
    "                new_matrix[row].append(matrix[row][col] * num)\n",
    "\n",
    "        return new_matrix\n",
    "    else:\n",
    "        return None\n",
    "    \n",
    "t_end = time.clock()\n",
    "t_total = (t_end - t_start) * (10 ** 6)\n",
    "\n",
    "print(\"This function took {} nano seconds\".format(t_total))\n",
    "\n",
    "print(scalar_multi(a, 5))"
   ]
  },
  {
   "cell_type": "code",
   "execution_count": 5,
   "metadata": {},
   "outputs": [],
   "source": [
    "x = [[12,7,3],\n",
    "     [4,5,1],\n",
    "     [7,8,2]]\n",
    "\n",
    "y = [[5,8,1,2],\n",
    "     [6,7,3,0],\n",
    "     [4,5,9,1]]\n"
   ]
  },
  {
   "cell_type": "code",
   "execution_count": 6,
   "metadata": {},
   "outputs": [
    {
     "name": "stdout",
     "output_type": "stream",
     "text": [
      "This function took 507.06201989103585 nano seconds\n",
      "[[114, 160, 60, 27], [54, 72, 28, 9], [91, 122, 49, 16]]\n"
     ]
    }
   ],
   "source": [
    "t_start = time.clock()\n",
    "def matrix_multi(matrix1, matrix2):\n",
    "    # checks the column length of the first matrix is the same as the rows in the second one\n",
    "    if np.shape(matrix1)[1] != np.shape(matrix2)[0]:\n",
    "        return None\n",
    "    # initialize a new matrix size matrix1[0] x matrix2[1]\n",
    "    new_matrix = []\n",
    "    for row in range(len(matrix1)):\n",
    "        new_matrix.append([])\n",
    "        for col in range(len(matrix2[0])):\n",
    "            new_matrix[row].append(0)\n",
    "\n",
    "    # iterating rows of matrix 1\n",
    "    for i in range(len(matrix1)):\n",
    "        # iterating cols of matrix 2\n",
    "        for j in range(len(matrix2[0])):\n",
    "            # iterating rows of matrix 2\n",
    "            for k in range(len(matrix2)):\n",
    "                new_matrix[i][j] += matrix1[i][k] * matrix2[k][j]\n",
    "\n",
    "    return new_matrix\n",
    "\n",
    "t_end = time.clock()\n",
    "t_total = (t_end - t_start) * (10 ** 6)\n",
    "\n",
    "print(\"This function took {} nano seconds\".format(t_total))\n",
    "\n",
    "print(matrix_multi(x, y))"
   ]
  },
  {
   "cell_type": "code",
   "execution_count": 7,
   "metadata": {},
   "outputs": [
    {
     "name": "stdout",
     "output_type": "stream",
     "text": [
      "This function took 154.09325639248462 nano seconds\n",
      "[[-4, -4], [-4, -4], [2, 2]]\n"
     ]
    }
   ],
   "source": [
    "t_start = time.clock()\n",
    "def subtraction(matrix1, matrix2):\n",
    "    matrix2 = scalar_multi(matrix2, -1)\n",
    "\n",
    "    new_matrix = addition(matrix1, matrix2)\n",
    "    return new_matrix\n",
    "\n",
    "t_end = time.clock()\n",
    "t_total = (t_end - t_start) * (10 ** 6)\n",
    "\n",
    "print(\"This function took {} nano seconds\".format(t_total))\n",
    "\n",
    "print(subtraction(a, b))"
   ]
  },
  {
   "cell_type": "code",
   "execution_count": 8,
   "metadata": {},
   "outputs": [
    {
     "name": "stdout",
     "output_type": "stream",
     "text": [
      "This function took 760.5930298365538 nano seconds\n",
      "[[1.0, -2.0], [-0.5, 1.5]]\n"
     ]
    }
   ],
   "source": [
    "# finding the inverse of a 2x2 matrix\n",
    "t_start = time.clock()\n",
    "def inverse_2x2(matrix):\n",
    "    if np.shape(matrix) != (2,2):\n",
    "        return None\n",
    "\n",
    "    a = matrix[0][0]\n",
    "    b = matrix[0][1]\n",
    "    c = matrix[1][0]\n",
    "    d = matrix[1][1]\n",
    "\n",
    "    matrix = [[d, -b], [-c, a]]\n",
    "    determinant = 1 / ((a*d) - (b*c))\n",
    "\n",
    "    new_matrix = scalar_multi(matrix, determinant)\n",
    "\n",
    "    return new_matrix\n",
    "t_end = time.clock()\n",
    "t_total = (t_end - t_start) * (10 ** 6)\n",
    "\n",
    "print(\"This function took {} nano seconds\".format(t_total))\n",
    "\n",
    "f = [[3, 4], [1, 2]]\n",
    "print(inverse_2x2(f))"
   ]
  }
 ],
 "metadata": {
  "kernelspec": {
   "display_name": "Python 3",
   "language": "python",
   "name": "python3"
  },
  "language_info": {
   "codemirror_mode": {
    "name": "ipython",
    "version": 3
   },
   "file_extension": ".py",
   "mimetype": "text/x-python",
   "name": "python",
   "nbconvert_exporter": "python",
   "pygments_lexer": "ipython3",
   "version": "3.6.7"
  }
 },
 "nbformat": 4,
 "nbformat_minor": 2
}
