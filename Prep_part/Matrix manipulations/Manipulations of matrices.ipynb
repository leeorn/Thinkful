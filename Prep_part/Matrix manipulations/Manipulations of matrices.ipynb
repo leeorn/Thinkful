{
 "cells": [
  {
   "cell_type": "markdown",
   "metadata": {},
   "source": [
    "Functions to do \n",
    "- matrix addition\n",
    "- matrix subtraction\n",
    "- matrix scalar multiplication\n",
    "- matrix multiplication\n",
    "- find inverse of a matrix\n",
    "- Transpose of a matrix"
   ]
  },
  {
   "cell_type": "code",
   "execution_count": 1,
   "metadata": {},
   "outputs": [],
   "source": [
    "import numpy as np\n",
    "import time"
   ]
  },
  {
   "cell_type": "code",
   "execution_count": 2,
   "metadata": {},
   "outputs": [],
   "source": [
    "# Adding the 2 given matrices if possible\n",
    "\n",
    "def addition(matrix1, matrix2):\n",
    "    if np.shape(matrix1) == np.shape(matrix2):          # check if they're the same size\n",
    "        new_matrix = []                                 # create an empty list\n",
    "\n",
    "        for row in range(len(matrix1)):                 # go through the row length\n",
    "            new_matrix.append([])                       # create a new list, in side that position\n",
    "            for col in range(len(matrix1[row])):        # go number by number and add them\n",
    "                 new_matrix[row].append(matrix1[row][col] + matrix2[row][col])\n",
    "\n",
    "    return new_matrix\n"
   ]
  },
  {
   "cell_type": "code",
   "execution_count": 3,
   "metadata": {},
   "outputs": [],
   "source": [
    "# Subtraction of 2 matrices\n",
    "\n",
    "def subtraction(matrix1, matrix2):\n",
    "    if np.shape(matrix1) == np.shape(matrix2):\n",
    "        return \"The matrcies should have the same size\"\n",
    "    \n",
    "    else:\n",
    "        matrix2 = scalar_multi(matrix2, -1)\n",
    "        new_matrix = addition(matrix1, matrix2)\n",
    "        \n",
    "        return new_matrix"
   ]
  },
  {
   "cell_type": "code",
   "execution_count": 4,
   "metadata": {},
   "outputs": [],
   "source": [
    "# Multiply the given matrix with a given scalar\n",
    "\n",
    "def scalar_multi(matrix, num):\n",
    "    if type(num) == int or type(num) == float:\n",
    "        new_matrix = []\n",
    "        for row in range(len(matrix)):\n",
    "            new_matrix.append([])\n",
    "            for col in range(len(matrix[row])):\n",
    "                new_matrix[row].append(matrix[row][col] * num)\n",
    "\n",
    "        return new_matrix\n",
    "    else:\n",
    "        return None"
   ]
  },
  {
   "cell_type": "code",
   "execution_count": 5,
   "metadata": {},
   "outputs": [],
   "source": [
    "# Multiply 2 matrcies\n",
    "\n",
    "def matrix_multi(matrix1, matrix2):\n",
    "    # checks the column length of the first matrix is the same as the rows in the second one\n",
    "    if np.shape(matrix1)[1] != np.shape(matrix2)[0]:\n",
    "        return None\n",
    "    # initialize a new matrix size matrix1[0] x matrix2[1]\n",
    "    new_matrix = []\n",
    "    for row in range(len(matrix1)):\n",
    "        new_matrix.append([])\n",
    "        for col in range(len(matrix2[0])):\n",
    "            new_matrix[row].append(0)\n",
    "\n",
    "    # iterating rows of matrix 1\n",
    "    for i in range(len(matrix1)):\n",
    "        # iterating cols of matrix 2\n",
    "        for j in range(len(matrix2[0])):\n",
    "            # iterating rows of matrix 2\n",
    "            for k in range(len(matrix2)):\n",
    "                new_matrix[i][j] += matrix1[i][k] * matrix2[k][j]\n",
    "\n",
    "    return new_matrix"
   ]
  },
  {
   "cell_type": "code",
   "execution_count": 6,
   "metadata": {},
   "outputs": [],
   "source": [
    "# Find the inverse of a 2x2 matrix \n",
    "\n",
    "def inverse_2x2(matrix):\n",
    "    if np.shape(matrix) != (2,2):\n",
    "        return None\n",
    "\n",
    "    a = matrix[0][0]\n",
    "    b = matrix[0][1]\n",
    "    c = matrix[1][0]\n",
    "    d = matrix[1][1]\n",
    "\n",
    "    matrix = [[d, -b], [-c, a]]\n",
    "    determinant = 1 / ((a*d) - (b*c))\n",
    "\n",
    "    new_matrix = scalar_multi(matrix, determinant)\n",
    "\n",
    "    return new_matrix"
   ]
  },
  {
   "cell_type": "code",
   "execution_count": 7,
   "metadata": {},
   "outputs": [],
   "source": [
    "# Find the transpose of a matrix\n",
    "\n",
    "def matrix_trans(matrix):\n",
    "    # creating a new matrix and fill it with 0's\n",
    "    new_matrix = []\n",
    "    for row in range(len(matrix[0])):\n",
    "        new_matrix.append([])\n",
    "        for col in range(len(matrix)):\n",
    "            new_matrix[row].append(0)\n",
    "\n",
    "    # doing the transpose part (row to columns and vice versa)\n",
    "    for i in range(len(new_matrix)):\n",
    "        for k in range(len(new_matrix[0])):\n",
    "            new_matrix[i][k] += matrix[k][i]\n",
    "\n",
    "    return new_matrix"
   ]
  },
  {
   "cell_type": "code",
   "execution_count": 8,
   "metadata": {},
   "outputs": [],
   "source": [
    "# Define a few 2D matrices\n",
    "\n",
    "a = [[1, 2], \n",
    "     [3, 4], \n",
    "     [7, 5]]\n",
    "\n",
    "b = [[5, 6], \n",
    "     [7, 8], \n",
    "     [1, 2]]\n",
    "\n",
    "c = [[12,7,3],\n",
    "     [4,5,1],\n",
    "     [7,8,2]]\n",
    "\n",
    "d = [[5,8,1,2],\n",
    "     [6,7,3,0],\n",
    "     [4,5,9,1]]\n",
    "\n",
    "e = [[3, 4], \n",
    "     [1, 2]]\n",
    "\n",
    "\n"
   ]
  },
  {
   "cell_type": "code",
   "execution_count": 9,
   "metadata": {},
   "outputs": [
    {
     "name": "stdout",
     "output_type": "stream",
     "text": [
      "[[6, 8], [10, 12], [8, 7]]\n",
      "This function took 0.17771853826502276 milli seconds\n"
     ]
    }
   ],
   "source": [
    "# Run the functions\n",
    "\n",
    "t_start = time.clock()\n",
    "\n",
    "print(addition(a,b))\n",
    "\n",
    "t_end = time.clock()\n",
    "t_total = (t_end - t_start) * (10 ** 3)\n",
    "\n",
    "print(\"This function took {} milliseconds\".format(t_total))"
   ]
  },
  {
   "cell_type": "code",
   "execution_count": 10,
   "metadata": {},
   "outputs": [
    {
     "name": "stdout",
     "output_type": "stream",
     "text": [
      "The matrcies should have the same size\n",
      "This function took 0.17983423514914 milli seconds\n"
     ]
    }
   ],
   "source": [
    "t_start = time.clock()\n",
    "\n",
    "print(subtraction(a,b))\n",
    "\n",
    "t_end = time.clock()\n",
    "t_total = (t_end - t_start) * (10 ** 3)\n",
    "\n",
    "print(\"This function took {} milliseconds\".format(t_total))"
   ]
  },
  {
   "cell_type": "code",
   "execution_count": 11,
   "metadata": {},
   "outputs": [
    {
     "name": "stdout",
     "output_type": "stream",
     "text": [
      "[[36, 21, 9], [12, 15, 3], [21, 24, 6]]\n",
      "This function took 1.4270375483304565 milli seconds\n"
     ]
    }
   ],
   "source": [
    "t_start = time.clock()\n",
    "\n",
    "print(scalar_multi(c, 3))\n",
    "\n",
    "t_end = time.clock()\n",
    "t_total = (t_end - t_start) * (10 ** 3)\n",
    "\n",
    "print(\"This function took {} milliseconds\".format(t_total))"
   ]
  },
  {
   "cell_type": "code",
   "execution_count": 12,
   "metadata": {},
   "outputs": [
    {
     "name": "stdout",
     "output_type": "stream",
     "text": [
      "[[36, 21, 9], [12, 15, 3], [21, 24, 6]]\n",
      "This function took 0.14563046885607278 milli seconds\n"
     ]
    }
   ],
   "source": [
    "t_start = time.clock()\n",
    "\n",
    "print(scalar_multi(c, 3))\n",
    "\n",
    "t_end = time.clock()\n",
    "t_total = (t_end - t_start) * (10 ** 3)\n",
    "\n",
    "print(\"This function took {} milliseconds\".format(t_total))"
   ]
  },
  {
   "cell_type": "code",
   "execution_count": 13,
   "metadata": {},
   "outputs": [
    {
     "name": "stdout",
     "output_type": "stream",
     "text": [
      "[[114, 160, 60, 27], [54, 72, 28, 9], [91, 122, 49, 16]]\n",
      "This function took 1.0405702508335946 milli seconds\n"
     ]
    }
   ],
   "source": [
    "t_start = time.clock()\n",
    "\n",
    "print(matrix_multi(c,d))\n",
    "\n",
    "t_end = time.clock()\n",
    "t_total = (t_end - t_start) * (10 ** 3)\n",
    "\n",
    "print(\"This function took {} milliseconds\".format(t_total))"
   ]
  },
  {
   "cell_type": "code",
   "execution_count": 14,
   "metadata": {},
   "outputs": [
    {
     "name": "stdout",
     "output_type": "stream",
     "text": [
      "[[1.0, -2.0], [-0.5, 1.5]]\n",
      "This function took 0.15726680171868068 milli seconds\n"
     ]
    }
   ],
   "source": [
    "t_start = time.clock()\n",
    "\n",
    "print(inverse_2x2(e))\n",
    "\n",
    "t_end = time.clock()\n",
    "t_total = (t_end - t_start) * (10 ** 3)\n",
    "\n",
    "print(\"This function took {} milliseconds\".format(t_total))"
   ]
  },
  {
   "cell_type": "code",
   "execution_count": 15,
   "metadata": {},
   "outputs": [
    {
     "name": "stdout",
     "output_type": "stream",
     "text": [
      "[[12, 4, 7], [7, 5, 8], [3, 1, 2]]\n",
      "This function took 0.15127232721368067 milli seconds\n"
     ]
    }
   ],
   "source": [
    "t_start = time.clock()\n",
    "\n",
    "print(matrix_trans(c))\n",
    "\n",
    "t_end = time.clock()\n",
    "t_total = (t_end - t_start) * (10 ** 3)\n",
    "\n",
    "print(\"This function took {} milliseconds\".format(t_total))"
   ]
  }
 ],
 "metadata": {
  "kernelspec": {
   "display_name": "Python 3",
   "language": "python",
   "name": "python3"
  },
  "language_info": {
   "codemirror_mode": {
    "name": "ipython",
    "version": 3
   },
   "file_extension": ".py",
   "mimetype": "text/x-python",
   "name": "python",
   "nbconvert_exporter": "python",
   "pygments_lexer": "ipython3",
   "version": "3.6.7"
  }
 },
 "nbformat": 4,
 "nbformat_minor": 2
}
