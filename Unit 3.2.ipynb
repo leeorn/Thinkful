{
 "cells": [
  {
   "cell_type": "markdown",
   "metadata": {},
   "source": [
    "## Calculating probabilities "
   ]
  },
  {
   "cell_type": "markdown",
   "metadata": {},
   "source": [
    "### Questions:\n",
    "##### 1) Calculate the probability of flipping a balanced coin four times and getting each pattern: HTTH, HHHH and TTHH.\n",
    "##### 2) If a list of people has 24 women and 21 men, then the probability of choosing a man from the list is 21/45. What is the probability of not choosing a man?\n",
    "##### 3) The probability that Bernice will travel by plane sometime in the next year is 10%. The probability of a plane crash at any time is .005%. What is the probability that Bernice will be in a plane crash sometime in the next year?\n",
    "##### 4) A data scientist wants to study the behavior of users on the company website. Each time a user clicks on a link on the website, there is a 5% chance that the user will be asked to complete a short survey about their behavior on the website. The data scientist uses the survey data to conclude that, on average, users spend 15 minutes surfing the company website before moving on to other things. What is wrong with this conclusion?"
   ]
  },
  {
   "cell_type": "markdown",
   "metadata": {},
   "source": [
    "### Question 1\n",
    "#### a) P(HTTH) = (1/2) ^ 4 = 1/16. \n",
    "##### Ways to think about that; one way is each time the probability of H and T is 1/2; one flip has no effect on the second (independent), therefore we multiply 1/2 4 times. Another way to think about that is that we want a path (HTTH), the total number of ways are 2^4 = 16. The probability to get this one path is 1/16. \n",
    "#### b) P(HHHH) = 1/16. (similarly to the previous reasoning)\n",
    "#### c) P(TTHH) = 1/16"
   ]
  },
  {
   "cell_type": "markdown",
   "metadata": {},
   "source": [
    "### Question 2\n",
    "#### P(m)^c = 24/45\n",
    "##### The probability that is not a man is the probability that it's a woman"
   ]
  },
  {
   "cell_type": "markdown",
   "metadata": {},
   "source": [
    "### Question 3\n",
    "#### P(b | c) = 0.1 * 0.00005 = 5*10^-6 \n",
    "#### Probability of a plan crash and that Brain is in that plan (dependent)"
   ]
  },
  {
   "cell_type": "markdown",
   "metadata": {},
   "source": [
    "### Question 4\n",
    "#### People who don't use the website are not taking into consideration. Also, the 5% chance to get the survey asked is a fairly small chance, so again, people might be missed. The only people who are being asked, are the people who used the website more frequently."
   ]
  }
 ],
 "metadata": {
  "kernelspec": {
   "display_name": "Python 3",
   "language": "python",
   "name": "python3"
  },
  "language_info": {
   "codemirror_mode": {
    "name": "ipython",
    "version": 3
   },
   "file_extension": ".py",
   "mimetype": "text/x-python",
   "name": "python",
   "nbconvert_exporter": "python",
   "pygments_lexer": "ipython3",
   "version": "3.6.7"
  }
 },
 "nbformat": 4,
 "nbformat_minor": 2
}
