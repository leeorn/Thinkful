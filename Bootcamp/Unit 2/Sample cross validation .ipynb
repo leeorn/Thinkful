{
 "cells": [
  {
   "cell_type": "markdown",
   "metadata": {},
   "source": [
    "Unit 2, lesson 3.3\n",
    "In here we'll use the spam data set and check for overfitting the model. I'll do that by using cross-validation. In the boot camp we used the package from SKLearn, below that I'll write my code to produce the same result (without the library)"
   ]
  },
  {
   "cell_type": "code",
   "execution_count": 1,
   "metadata": {},
   "outputs": [],
   "source": [
    "import pandas as pd\n",
    "import sklearn\n",
    "import numpy as np\n",
    "import matplotlib.pyplot as plt"
   ]
  },
  {
   "cell_type": "code",
   "execution_count": 2,
   "metadata": {},
   "outputs": [
    {
     "name": "stdout",
     "output_type": "stream",
     "text": [
      "Number of mislabeled points out of a total 5572 points : 604\n"
     ]
    }
   ],
   "source": [
    "# Grab and process the raw data.\n",
    "data_path = (\"https://raw.githubusercontent.com/Thinkful-Ed/data-201-resources/\"\n",
    "             \"master/sms_spam_collection/SMSSpamCollection\"\n",
    "            )\n",
    "sms_raw = pd.read_csv(data_path, delimiter= '\\t', header=None)\n",
    "sms_raw.columns = ['spam', 'message']\n",
    "\n",
    "# Enumerate our spammy keywords.\n",
    "keywords = ['click', 'offer', 'winner', 'buy', 'free', 'cash', 'urgent']\n",
    "\n",
    "for key in keywords:\n",
    "    sms_raw[str(key)] = sms_raw.message.str.contains(\n",
    "        ' ' + str(key) + ' ',\n",
    "        case=False\n",
    ")\n",
    "\n",
    "sms_raw['allcaps'] = sms_raw.message.str.isupper()\n",
    "sms_raw['spam'] = (sms_raw['spam'] == 'spam')\n",
    "data = sms_raw[keywords + ['allcaps']]\n",
    "target = sms_raw['spam']\n",
    "\n",
    "from sklearn.naive_bayes import BernoulliNB\n",
    "bnb = BernoulliNB()\n",
    "y_pred = bnb.fit(data, target).predict(data)\n",
    "\n",
    "# Display our results.\n",
    "print(\"Number of mislabeled points out of a total {} points : {}\".format(\n",
    "    data.shape[0],\n",
    "    (target != y_pred).sum()\n",
    "))"
   ]
  },
  {
   "cell_type": "code",
   "execution_count": 3,
   "metadata": {},
   "outputs": [
    {
     "name": "stdout",
     "output_type": "stream",
     "text": [
      "With 20% Holdout: 0.884304932735426\n",
      "Testing on Sample: 0.8916008614501076\n"
     ]
    }
   ],
   "source": [
    "# Test your model with different holdout groups.\n",
    "from sklearn.model_selection import train_test_split\n",
    "\n",
    "# Use train_test_split to create the necessary training and test groups\n",
    "X_train, X_test, y_train, y_test = train_test_split(data, target, test_size=0.2, random_state=20)\n",
    "print('With 20% Holdout: ' + str(bnb.fit(X_train, y_train).score(X_test, y_test)))\n",
    "print('Testing on Sample: ' + str(bnb.fit(data, target).score(data, target)))"
   ]
  },
  {
   "cell_type": "code",
   "execution_count": 4,
   "metadata": {},
   "outputs": [
    {
     "data": {
      "text/plain": [
       "array([0.89784946, 0.89426523, 0.89426523, 0.890681  , 0.89605735,\n",
       "       0.89048474, 0.88150808, 0.89028777, 0.88489209, 0.89568345])"
      ]
     },
     "execution_count": 4,
     "metadata": {},
     "output_type": "execute_result"
    }
   ],
   "source": [
    "from sklearn.model_selection import cross_val_score\n",
    "cross_val_score(bnb, data, target, cv=10)"
   ]
  },
  {
   "cell_type": "markdown",
   "metadata": {},
   "source": [
    "### My code:"
   ]
  },
  {
   "cell_type": "code",
   "execution_count": 5,
   "metadata": {},
   "outputs": [],
   "source": [
    "# check the length of the data\n",
    "len_data = len(data)\n",
    "\n",
    "# get int division by 10\n",
    "len_data = (int)(len_data / 10)\n",
    "\n",
    "# assign 10th of the data to each variable\n",
    "data1 = data.iloc[0 : len_data]\n",
    "data2 = data.iloc[len_data : len_data*2]\n",
    "data3 = data.iloc[len_data*2 : len_data*3]\n",
    "data4 = data.iloc[len_data*3 : len_data*4]\n",
    "data5 = data.iloc[len_data*4 : len_data*5]\n",
    "data6 = data.iloc[len_data*5 : len_data*6]\n",
    "data7 = data.iloc[len_data*6 : len_data*7]\n",
    "data8 = data.iloc[len_data*7 : len_data*8]\n",
    "data9 = data.iloc[len_data*8 : len_data*9]\n",
    "data10 = data.iloc[len_data*9 : ]\n",
    "\n",
    "# assign 10th of the target to each variable\n",
    "target1 = target.iloc[0 : len_data]\n",
    "target2 = target.iloc[len_data : len_data*2]\n",
    "target3 = target.iloc[len_data*2 : len_data*3]\n",
    "target4 = target.iloc[len_data*3 : len_data*4]\n",
    "target5 = target.iloc[len_data*4 : len_data*5]\n",
    "target6 = target.iloc[len_data*5 : len_data*6]\n",
    "target7 = target.iloc[len_data*6 : len_data*7]\n",
    "target8 = target.iloc[len_data*7 : len_data*8]\n",
    "target9 = target.iloc[len_data*8 : len_data*9]\n",
    "target10 = target.iloc[len_data*9 : ]\n"
   ]
  },
  {
   "cell_type": "code",
   "execution_count": 6,
   "metadata": {},
   "outputs": [
    {
     "name": "stdout",
     "output_type": "stream",
     "text": [
      "[0.8904847, 0.8761221, 0.9066427, 0.8958707, 0.8994614, 0.9012567, 0.8850987, 0.8833034, 0.8707361, 0.8962433]\n"
     ]
    }
   ],
   "source": [
    "# Use the BernoulliNB to get the predection to each group and store it in the list called \"result\"\n",
    "result = []\n",
    "result.append(round(bnb.fit(data1, target1).score(data1, target1), 7))\n",
    "result.append(round(bnb.fit(data2, target2).score(data2, target2), 7))\n",
    "result.append(round(bnb.fit(data3, target3).score(data3, target3), 7))\n",
    "result.append(round(bnb.fit(data4, target4).score(data4, target4), 7))\n",
    "result.append(round(bnb.fit(data5, target5).score(data5, target5), 7))\n",
    "result.append(round(bnb.fit(data6, target6).score(data6, target6), 7))\n",
    "result.append(round(bnb.fit(data7, target7).score(data7, target7), 7))\n",
    "result.append(round(bnb.fit(data8, target8).score(data8, target8), 7))\n",
    "result.append(round(bnb.fit(data1, target9).score(data9, target9), 7))\n",
    "result.append(round(bnb.fit(data10, target10).score(data10, target10), 7))\n",
    "\n",
    "print(result)\n"
   ]
  },
  {
   "cell_type": "markdown",
   "metadata": {},
   "source": [
    "### More in depth into the model. "
   ]
  },
  {
   "cell_type": "code",
   "execution_count": 7,
   "metadata": {},
   "outputs": [
    {
     "name": "stdout",
     "output_type": "stream",
     "text": [
      "13.406% of the data is actual spam\n"
     ]
    }
   ],
   "source": [
    "# see the percentage of the span in the raw file\n",
    "spam_prec = (len(sms_raw[sms_raw['spam'] == True])/len(sms_raw)) * 100\n",
    "print(\"{}% of the data is actual spam\".format(round(spam_prec, 3)))"
   ]
  },
  {
   "cell_type": "markdown",
   "metadata": {},
   "source": [
    "As it can be seen, an only a small amount of the data is actually a spam message. This is an imbalance class issue. <br>That is, even if the model categorize all the data as 'not spam' it will have accuracy of about 86.6% <br>I will try to resolve this issue by \n",
    "oversample the spam messages (by the factor of 2) and undersample the nonspam messages"
   ]
  },
  {
   "cell_type": "code",
   "execution_count": 8,
   "metadata": {},
   "outputs": [
    {
     "data": {
      "text/html": [
       "<div>\n",
       "<style scoped>\n",
       "    .dataframe tbody tr th:only-of-type {\n",
       "        vertical-align: middle;\n",
       "    }\n",
       "\n",
       "    .dataframe tbody tr th {\n",
       "        vertical-align: top;\n",
       "    }\n",
       "\n",
       "    .dataframe thead th {\n",
       "        text-align: right;\n",
       "    }\n",
       "</style>\n",
       "<table border=\"1\" class=\"dataframe\">\n",
       "  <thead>\n",
       "    <tr style=\"text-align: right;\">\n",
       "      <th></th>\n",
       "      <th>spam</th>\n",
       "      <th>message</th>\n",
       "      <th>click</th>\n",
       "      <th>offer</th>\n",
       "      <th>winner</th>\n",
       "      <th>buy</th>\n",
       "      <th>free</th>\n",
       "      <th>cash</th>\n",
       "      <th>urgent</th>\n",
       "      <th>allcaps</th>\n",
       "    </tr>\n",
       "  </thead>\n",
       "  <tbody>\n",
       "    <tr>\n",
       "      <th>0</th>\n",
       "      <td>False</td>\n",
       "      <td>Tell them the drug dealer's getting impatient</td>\n",
       "      <td>False</td>\n",
       "      <td>False</td>\n",
       "      <td>False</td>\n",
       "      <td>False</td>\n",
       "      <td>False</td>\n",
       "      <td>False</td>\n",
       "      <td>False</td>\n",
       "      <td>False</td>\n",
       "    </tr>\n",
       "    <tr>\n",
       "      <th>1</th>\n",
       "      <td>True</td>\n",
       "      <td>Got what it takes 2 take part in the WRC Rally...</td>\n",
       "      <td>False</td>\n",
       "      <td>False</td>\n",
       "      <td>False</td>\n",
       "      <td>False</td>\n",
       "      <td>False</td>\n",
       "      <td>False</td>\n",
       "      <td>False</td>\n",
       "      <td>False</td>\n",
       "    </tr>\n",
       "    <tr>\n",
       "      <th>2</th>\n",
       "      <td>False</td>\n",
       "      <td>Jus finish blowing my hair. U finish dinner al...</td>\n",
       "      <td>False</td>\n",
       "      <td>False</td>\n",
       "      <td>False</td>\n",
       "      <td>False</td>\n",
       "      <td>False</td>\n",
       "      <td>False</td>\n",
       "      <td>False</td>\n",
       "      <td>False</td>\n",
       "    </tr>\n",
       "    <tr>\n",
       "      <th>3</th>\n",
       "      <td>True</td>\n",
       "      <td>Natalie (20/F) is inviting you to be her frien...</td>\n",
       "      <td>False</td>\n",
       "      <td>False</td>\n",
       "      <td>False</td>\n",
       "      <td>False</td>\n",
       "      <td>False</td>\n",
       "      <td>False</td>\n",
       "      <td>False</td>\n",
       "      <td>False</td>\n",
       "    </tr>\n",
       "    <tr>\n",
       "      <th>4</th>\n",
       "      <td>True</td>\n",
       "      <td>Today's Offer! Claim ur £150 worth of discount...</td>\n",
       "      <td>False</td>\n",
       "      <td>False</td>\n",
       "      <td>False</td>\n",
       "      <td>False</td>\n",
       "      <td>False</td>\n",
       "      <td>False</td>\n",
       "      <td>False</td>\n",
       "      <td>False</td>\n",
       "    </tr>\n",
       "    <tr>\n",
       "      <th>5</th>\n",
       "      <td>True</td>\n",
       "      <td>Promotion Number: 8714714 - UR awarded a City ...</td>\n",
       "      <td>False</td>\n",
       "      <td>False</td>\n",
       "      <td>False</td>\n",
       "      <td>False</td>\n",
       "      <td>False</td>\n",
       "      <td>False</td>\n",
       "      <td>False</td>\n",
       "      <td>False</td>\n",
       "    </tr>\n",
       "    <tr>\n",
       "      <th>6</th>\n",
       "      <td>False</td>\n",
       "      <td>Future is not what we planned for tomorrow.......</td>\n",
       "      <td>False</td>\n",
       "      <td>False</td>\n",
       "      <td>False</td>\n",
       "      <td>False</td>\n",
       "      <td>False</td>\n",
       "      <td>False</td>\n",
       "      <td>False</td>\n",
       "      <td>False</td>\n",
       "    </tr>\n",
       "    <tr>\n",
       "      <th>7</th>\n",
       "      <td>False</td>\n",
       "      <td>House-Maid is the murderer, coz the man was mu...</td>\n",
       "      <td>False</td>\n",
       "      <td>False</td>\n",
       "      <td>False</td>\n",
       "      <td>False</td>\n",
       "      <td>False</td>\n",
       "      <td>False</td>\n",
       "      <td>False</td>\n",
       "      <td>False</td>\n",
       "    </tr>\n",
       "    <tr>\n",
       "      <th>8</th>\n",
       "      <td>False</td>\n",
       "      <td>Morning only i can ok.</td>\n",
       "      <td>False</td>\n",
       "      <td>False</td>\n",
       "      <td>False</td>\n",
       "      <td>False</td>\n",
       "      <td>False</td>\n",
       "      <td>False</td>\n",
       "      <td>False</td>\n",
       "      <td>False</td>\n",
       "    </tr>\n",
       "    <tr>\n",
       "      <th>9</th>\n",
       "      <td>False</td>\n",
       "      <td>The beauty of life is in next second.. which h...</td>\n",
       "      <td>False</td>\n",
       "      <td>False</td>\n",
       "      <td>False</td>\n",
       "      <td>False</td>\n",
       "      <td>False</td>\n",
       "      <td>False</td>\n",
       "      <td>False</td>\n",
       "      <td>False</td>\n",
       "    </tr>\n",
       "  </tbody>\n",
       "</table>\n",
       "</div>"
      ],
      "text/plain": [
       "    spam                                            message  click  offer  \\\n",
       "0  False      Tell them the drug dealer's getting impatient  False  False   \n",
       "1   True  Got what it takes 2 take part in the WRC Rally...  False  False   \n",
       "2  False  Jus finish blowing my hair. U finish dinner al...  False  False   \n",
       "3   True  Natalie (20/F) is inviting you to be her frien...  False  False   \n",
       "4   True  Today's Offer! Claim ur £150 worth of discount...  False  False   \n",
       "5   True  Promotion Number: 8714714 - UR awarded a City ...  False  False   \n",
       "6  False  Future is not what we planned for tomorrow.......  False  False   \n",
       "7  False  House-Maid is the murderer, coz the man was mu...  False  False   \n",
       "8  False                             Morning only i can ok.  False  False   \n",
       "9  False  The beauty of life is in next second.. which h...  False  False   \n",
       "\n",
       "   winner    buy   free   cash  urgent  allcaps  \n",
       "0   False  False  False  False   False    False  \n",
       "1   False  False  False  False   False    False  \n",
       "2   False  False  False  False   False    False  \n",
       "3   False  False  False  False   False    False  \n",
       "4   False  False  False  False   False    False  \n",
       "5   False  False  False  False   False    False  \n",
       "6   False  False  False  False   False    False  \n",
       "7   False  False  False  False   False    False  \n",
       "8   False  False  False  False   False    False  \n",
       "9   False  False  False  False   False    False  "
      ]
     },
     "execution_count": 8,
     "metadata": {},
     "output_type": "execute_result"
    }
   ],
   "source": [
    "# create two dfs of only spam and only not spam so I could control the amounts\n",
    "spam_df = sms_raw[sms_raw['spam'] == True]\n",
    "not_spam_df = sms_raw[sms_raw['spam'] == False]\n",
    "\n",
    "# new df with 20% less not spam messages and twice as much spam messages\n",
    "not_spam_df = not_spam_df.sample(frac=0.8)\n",
    "spam_df = spam_df.sample(frac=2, replace=True)\n",
    "frames = [not_spam_df, spam_df]\n",
    "new_df = pd.concat(frames)\n",
    "\n",
    "# randomize the data\n",
    "new_df = sklearn.utils.shuffle(new_df)\n",
    "\n",
    "# reset the index (from 0 to full length)\n",
    "new_df.reset_index(inplace=True)\n",
    "# drop the 'index column' which got created\n",
    "new_df.drop(labels='index', axis=1, inplace=True)\n",
    "\n",
    "new_df.head(10)"
   ]
  },
  {
   "cell_type": "code",
   "execution_count": 9,
   "metadata": {},
   "outputs": [
    {
     "name": "stdout",
     "output_type": "stream",
     "text": [
      "spam       0\n",
      "message    0\n",
      "click      0\n",
      "offer      0\n",
      "winner     0\n",
      "buy        0\n",
      "free       0\n",
      "cash       0\n",
      "urgent     0\n",
      "allcaps    0\n",
      "dtype: int64\n",
      "The size of real spam is 1494, and the size of not spam is 3860\n",
      "The spam messages are now 0.2790437056406425 of the total dataset\n"
     ]
    }
   ],
   "source": [
    "# check we didn't get 'NaN' values AND\n",
    "# the new size of the spam and 'ham' to confirm the over sample and under sample worked.\n",
    "print(new_df.isnull().sum())\n",
    "\n",
    "print(\"The size of real spam is {}, and the size of not spam is {}\".format(len(new_df[new_df['spam'] == True]), \n",
    "                                                                          len(new_df[new_df['spam'] == False])))\n",
    "print(\"The spam messages are now {} of the total dataset\".format(len(new_df[new_df['spam'] == True]) / \n",
    "                                                                  len(new_df)))"
   ]
  },
  {
   "cell_type": "markdown",
   "metadata": {},
   "source": [
    "run the analysis again and check the results"
   ]
  },
  {
   "cell_type": "code",
   "execution_count": 10,
   "metadata": {},
   "outputs": [
    {
     "name": "stdout",
     "output_type": "stream",
     "text": [
      "Number of mislabeled points out of a total 5354 points : 1143\n"
     ]
    }
   ],
   "source": [
    "# the target\n",
    "new_target = new_df['spam']\n",
    "\n",
    "# the data without the unnecessary columns\n",
    "new_data = new_df.drop(labels=['spam', 'message'], axis=1)\n",
    "\n",
    "new_y_pred = bnb.fit(new_data, new_target).predict(new_data)\n",
    "\n",
    "# Display our results.\n",
    "print(\"Number of mislabeled points out of a total {} points : {}\".format(\n",
    "    new_data.shape[0],\n",
    "    (new_target != new_y_pred).sum()\n",
    "))\n",
    "\n"
   ]
  },
  {
   "cell_type": "code",
   "execution_count": 11,
   "metadata": {},
   "outputs": [
    {
     "name": "stdout",
     "output_type": "stream",
     "text": [
      "[[3812   48]\n",
      " [1095  399]]\n"
     ]
    }
   ],
   "source": [
    "# confusion matrix \n",
    "print(sklearn.metrics.confusion_matrix(new_target, new_y_pred))\n",
    "\n",
    "# this result is much worst the the previous one, what am I doing wrong?"
   ]
  }
 ],
 "metadata": {
  "kernelspec": {
   "display_name": "Python 3",
   "language": "python",
   "name": "python3"
  },
  "language_info": {
   "codemirror_mode": {
    "name": "ipython",
    "version": 3
   },
   "file_extension": ".py",
   "mimetype": "text/x-python",
   "name": "python",
   "nbconvert_exporter": "python",
   "pygments_lexer": "ipython3",
   "version": "3.6.7"
  }
 },
 "nbformat": 4,
 "nbformat_minor": 2
}
