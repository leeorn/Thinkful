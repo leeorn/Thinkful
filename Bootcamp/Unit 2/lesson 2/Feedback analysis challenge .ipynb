{
 "cells": [
  {
   "cell_type": "markdown",
   "metadata": {},
   "source": [
    "## Using Naive Bayes to classify reviews on amazon as good or bad\n",
    "the data set is from https://archive.ics.uci.edu/ml/datasets/Sentiment+Labelled+Sentences#\n",
    "From Group to Individual Labels using Deep Features', Kotzias et. al,. KDD 2015 "
   ]
  },
  {
   "cell_type": "code",
   "execution_count": 1,
   "metadata": {},
   "outputs": [],
   "source": [
    "%matplotlib inline\n",
    "import numpy as np\n",
    "import pandas as pd\n",
    "import scipy\n",
    "import sklearn\n",
    "import matplotlib.pyplot as plt\n",
    "import seaborn as sns"
   ]
  },
  {
   "cell_type": "code",
   "execution_count": 2,
   "metadata": {},
   "outputs": [
    {
     "data": {
      "text/html": [
       "<div>\n",
       "<style scoped>\n",
       "    .dataframe tbody tr th:only-of-type {\n",
       "        vertical-align: middle;\n",
       "    }\n",
       "\n",
       "    .dataframe tbody tr th {\n",
       "        vertical-align: top;\n",
       "    }\n",
       "\n",
       "    .dataframe thead th {\n",
       "        text-align: right;\n",
       "    }\n",
       "</style>\n",
       "<table border=\"1\" class=\"dataframe\">\n",
       "  <thead>\n",
       "    <tr style=\"text-align: right;\">\n",
       "      <th></th>\n",
       "      <th>score</th>\n",
       "      <th>message</th>\n",
       "    </tr>\n",
       "  </thead>\n",
       "  <tbody>\n",
       "    <tr>\n",
       "      <th>0</th>\n",
       "      <td>0</td>\n",
       "      <td>So there is no way for me to plug it in here i...</td>\n",
       "    </tr>\n",
       "    <tr>\n",
       "      <th>1</th>\n",
       "      <td>1</td>\n",
       "      <td>Good case, Excellent value.</td>\n",
       "    </tr>\n",
       "    <tr>\n",
       "      <th>2</th>\n",
       "      <td>1</td>\n",
       "      <td>Great for the jawbone.</td>\n",
       "    </tr>\n",
       "    <tr>\n",
       "      <th>3</th>\n",
       "      <td>0</td>\n",
       "      <td>Tied to charger for conversations lasting more...</td>\n",
       "    </tr>\n",
       "    <tr>\n",
       "      <th>4</th>\n",
       "      <td>1</td>\n",
       "      <td>The mic is great.</td>\n",
       "    </tr>\n",
       "  </tbody>\n",
       "</table>\n",
       "</div>"
      ],
      "text/plain": [
       "   score                                            message\n",
       "0      0  So there is no way for me to plug it in here i...\n",
       "1      1                        Good case, Excellent value.\n",
       "2      1                             Great for the jawbone.\n",
       "3      0  Tied to charger for conversations lasting more...\n",
       "4      1                                  The mic is great."
      ]
     },
     "execution_count": 2,
     "metadata": {},
     "output_type": "execute_result"
    }
   ],
   "source": [
    "# load the data\n",
    "review_raw = pd.read_csv('amazon_review.txt', names=['message', 'score'], delimiter='\\t')\n",
    "# change the order of the columns\n",
    "review_raw = review_raw[['score', 'message']]\n",
    "\n",
    "#'score' 1 means positive score, 'score' 0 means negative one\n",
    "\n",
    "review_raw.head()"
   ]
  },
  {
   "cell_type": "markdown",
   "metadata": {},
   "source": [
    "- add some features (words) (find the words which doesn't intersect, add them to the df)\n",
    "- check correspondence\n",
    "- map in using heatmap \n",
    "- use naive bayes to check how good the model is"
   ]
  },
  {
   "cell_type": "code",
   "execution_count": 7,
   "metadata": {},
   "outputs": [],
   "source": [
    "# positive list\n",
    "positive = review_raw.loc[review_raw['score'] == True]\n",
    "# negative list\n",
    "negative = review_raw.loc[review_raw['score'] != True]\n",
    "\n",
    "# count the most frequency used words\n",
    "freq = 100\n",
    "most_freq_positive_words = pd.Series(' '.join(positive['message']).lower().split()).value_counts()[:freq]\n",
    "most_freq_negative_words = pd.Series(' '.join(negative['message']).lower().split()).value_counts()[:freq]\n"
   ]
  },
  {
   "cell_type": "code",
   "execution_count": 4,
   "metadata": {},
   "outputs": [],
   "source": [
    "# create positive set of words\n",
    "positive_set = {most_freq_positive_words.index[0]}\n",
    "\n",
    "for i in most_freq_positive_words.index:\n",
    "    positive_set.add(i)\n",
    "\n",
    "# create negative set of words\n",
    "negative_set = {most_freq_negative_words.index[0]}\n",
    "\n",
    "for y in most_freq_negative_words.index:\n",
    "     negative_set.add(y)"
   ]
  },
  {
   "cell_type": "code",
   "execution_count": 5,
   "metadata": {},
   "outputs": [
    {
     "name": "stdout",
     "output_type": "stream",
     "text": [
      "The 21 most used words in only the positive set are:\n",
      "{'well', \"it's\", 'great', 'quality', 'nice', 'headset', 'love', \"i've\", 'really', 'best', 'excellent', 'like', 'great.', 'good', 'recommend', 'phone.', 'sound', 'one', 'works', 'has', 'than'}\n",
      "\n",
      "\n",
      "The 21 most used words in only the negative set are:\n",
      "{'your', 'do', 'at', 'then', 'it.', \"doesn't\", 'out', 'work', 'when', 'if', 'no', 'get', 'after', 'only', 'not', 'me', 'use', 'be', 'or', 'does', \"don't\"}\n"
     ]
    }
   ],
   "source": [
    "# find the intersection between the two sets\n",
    "inter = positive_set.intersection(negative_set)\n",
    "\n",
    "# print the top few used words that are only in the positive set\n",
    "print(\"The {} most used words in only the positive set are:\\n{}\\n\".format(len(positive_set - inter), positive_set - inter))\n",
    "# print the top few used words that are only in the negative set\n",
    "print(\"\\nThe {} most used words in only the negative set are:\\n{}\".format(len(negative_set - inter), negative_set - inter))"
   ]
  },
  {
   "cell_type": "code",
   "execution_count": 12,
   "metadata": {},
   "outputs": [
    {
     "data": {
      "text/html": [
       "<div>\n",
       "<style scoped>\n",
       "    .dataframe tbody tr th:only-of-type {\n",
       "        vertical-align: middle;\n",
       "    }\n",
       "\n",
       "    .dataframe tbody tr th {\n",
       "        vertical-align: top;\n",
       "    }\n",
       "\n",
       "    .dataframe thead th {\n",
       "        text-align: right;\n",
       "    }\n",
       "</style>\n",
       "<table border=\"1\" class=\"dataframe\">\n",
       "  <thead>\n",
       "    <tr style=\"text-align: right;\">\n",
       "      <th></th>\n",
       "      <th>score</th>\n",
       "      <th>message</th>\n",
       "      <th>quality</th>\n",
       "      <th>recommend</th>\n",
       "      <th>great</th>\n",
       "      <th>excellent</th>\n",
       "      <th>best</th>\n",
       "      <th>worst</th>\n",
       "      <th>only</th>\n",
       "      <th>don't</th>\n",
       "      <th>bad</th>\n",
       "      <th>waste</th>\n",
       "    </tr>\n",
       "  </thead>\n",
       "  <tbody>\n",
       "    <tr>\n",
       "      <th>0</th>\n",
       "      <td>0</td>\n",
       "      <td>So there is no way for me to plug it in here i...</td>\n",
       "      <td>False</td>\n",
       "      <td>False</td>\n",
       "      <td>False</td>\n",
       "      <td>False</td>\n",
       "      <td>False</td>\n",
       "      <td>False</td>\n",
       "      <td>False</td>\n",
       "      <td>False</td>\n",
       "      <td>False</td>\n",
       "      <td>False</td>\n",
       "    </tr>\n",
       "    <tr>\n",
       "      <th>1</th>\n",
       "      <td>1</td>\n",
       "      <td>Good case, Excellent value.</td>\n",
       "      <td>False</td>\n",
       "      <td>False</td>\n",
       "      <td>False</td>\n",
       "      <td>True</td>\n",
       "      <td>False</td>\n",
       "      <td>False</td>\n",
       "      <td>False</td>\n",
       "      <td>False</td>\n",
       "      <td>False</td>\n",
       "      <td>False</td>\n",
       "    </tr>\n",
       "    <tr>\n",
       "      <th>2</th>\n",
       "      <td>1</td>\n",
       "      <td>Great for the jawbone.</td>\n",
       "      <td>False</td>\n",
       "      <td>False</td>\n",
       "      <td>True</td>\n",
       "      <td>False</td>\n",
       "      <td>False</td>\n",
       "      <td>False</td>\n",
       "      <td>False</td>\n",
       "      <td>False</td>\n",
       "      <td>False</td>\n",
       "      <td>False</td>\n",
       "    </tr>\n",
       "    <tr>\n",
       "      <th>3</th>\n",
       "      <td>0</td>\n",
       "      <td>Tied to charger for conversations lasting more...</td>\n",
       "      <td>False</td>\n",
       "      <td>False</td>\n",
       "      <td>False</td>\n",
       "      <td>False</td>\n",
       "      <td>False</td>\n",
       "      <td>False</td>\n",
       "      <td>False</td>\n",
       "      <td>False</td>\n",
       "      <td>False</td>\n",
       "      <td>False</td>\n",
       "    </tr>\n",
       "    <tr>\n",
       "      <th>4</th>\n",
       "      <td>1</td>\n",
       "      <td>The mic is great.</td>\n",
       "      <td>False</td>\n",
       "      <td>False</td>\n",
       "      <td>True</td>\n",
       "      <td>False</td>\n",
       "      <td>False</td>\n",
       "      <td>False</td>\n",
       "      <td>False</td>\n",
       "      <td>False</td>\n",
       "      <td>False</td>\n",
       "      <td>False</td>\n",
       "    </tr>\n",
       "  </tbody>\n",
       "</table>\n",
       "</div>"
      ],
      "text/plain": [
       "   score                                            message  quality  \\\n",
       "0      0  So there is no way for me to plug it in here i...    False   \n",
       "1      1                        Good case, Excellent value.    False   \n",
       "2      1                             Great for the jawbone.    False   \n",
       "3      0  Tied to charger for conversations lasting more...    False   \n",
       "4      1                                  The mic is great.    False   \n",
       "\n",
       "   recommend  great  excellent   best  worst   only  don't    bad  waste  \n",
       "0      False  False      False  False  False  False  False  False  False  \n",
       "1      False  False       True  False  False  False  False  False  False  \n",
       "2      False   True      False  False  False  False  False  False  False  \n",
       "3      False  False      False  False  False  False  False  False  False  \n",
       "4      False   True      False  False  False  False  False  False  False  "
      ]
     },
     "execution_count": 12,
     "metadata": {},
     "output_type": "execute_result"
    }
   ],
   "source": [
    "# create a list of keywords by adding 5 words (that I believe have high correspondence to the outcome) \n",
    "# from each set (bad/ negative) to our df\n",
    "keywords = ['quality', 'recommend', 'great', 'excellent', 'best', 'worst', 'only', \"don't\", 'bad', 'waste']\n",
    "\n",
    "# add these columns and check if the word appears (T/F)\n",
    "for key in keywords:\n",
    "    review_raw[str(key)] = review_raw.message.str.contains(\n",
    "        str(key), case=False\n",
    "    )\n",
    "    \n",
    "review_raw.head()"
   ]
  },
  {
   "cell_type": "code",
   "execution_count": 13,
   "metadata": {},
   "outputs": [
    {
     "name": "stdout",
     "output_type": "stream",
     "text": [
      "              score   quality  recommend     great  excellent      best  \\\n",
      "score      1.000000  0.060222   0.092545  0.289256   0.154242  0.122713   \n",
      "quality    0.060222  1.000000  -0.037812 -0.043658   0.076511  0.029118   \n",
      "recommend  0.092545 -0.037812   1.000000 -0.013405   0.010316 -0.024984   \n",
      "great      0.289256 -0.043658  -0.013405  1.000000  -0.054908 -0.026507   \n",
      "excellent  0.154242  0.076511   0.010316 -0.054908   1.000000 -0.024984   \n",
      "best       0.122713  0.029118  -0.024984 -0.026507  -0.024984  1.000000   \n",
      "worst     -0.114766 -0.026051  -0.019118 -0.037829  -0.019118 -0.017213   \n",
      "only      -0.086723 -0.003925   0.015599 -0.028136  -0.025559 -0.023012   \n",
      "don't     -0.100543 -0.007976   0.011553 -0.053854  -0.027217 -0.024505   \n",
      "bad       -0.119159  0.012381   0.032663 -0.039277  -0.019850 -0.017872   \n",
      "waste     -0.127515 -0.028945  -0.021242 -0.042031  -0.021242 -0.019125   \n",
      "\n",
      "              worst      only     don't       bad     waste  \n",
      "score     -0.114766 -0.086723 -0.100543 -0.119159 -0.127515  \n",
      "quality   -0.026051 -0.003925 -0.007976  0.012381 -0.028945  \n",
      "recommend -0.019118  0.015599  0.011553  0.032663 -0.021242  \n",
      "great     -0.037829 -0.028136 -0.053854 -0.039277 -0.042031  \n",
      "excellent -0.019118 -0.025559 -0.027217 -0.019850 -0.021242  \n",
      "best      -0.017213 -0.023012 -0.024505 -0.017872 -0.019125  \n",
      "worst      1.000000  0.041284 -0.018751 -0.013675 -0.014634  \n",
      "only       0.041284  1.000000  0.016852  0.038496 -0.019565  \n",
      "don't     -0.018751  0.016852  1.000000  0.034016  0.179492  \n",
      "bad       -0.013675  0.038496  0.034016  1.000000 -0.015195  \n",
      "waste     -0.014634 -0.019565  0.179492 -0.015195  1.000000  \n"
     ]
    },
    {
     "data": {
      "text/plain": [
       "<matplotlib.axes._subplots.AxesSubplot at 0x2e7dec37080>"
      ]
     },
     "execution_count": 13,
     "metadata": {},
     "output_type": "execute_result"
    },
    {
     "data": {
      "image/png": "[encoded data removed]",
      "text/plain": [
       "<Figure size 432x288 with 2 Axes>"
      ]
     },
     "metadata": {
      "needs_background": "light"
     },
     "output_type": "display_data"
    }
   ],
   "source": [
    "# checks the correlations between all the variables (we don't want features to be dependent on one another)\n",
    "correlation = review_raw.corr()\n",
    "print(correlation)\n",
    "\n",
    "# see in heatmap \n",
    "sns.heatmap(correlation, cmap=\"RdBu_r\", vmax=1, vmin= -.8)"
   ]
  },
  {
   "cell_type": "markdown",
   "metadata": {},
   "source": [
    "Using the above info, it can be seen that the dependent variables don't have a high correlation between themselves, which is good. \n",
    "So, I'll use Naive Bayes to see how well we can recognize if the review is positive or negative reviews."
   ]
  },
  {
   "cell_type": "code",
   "execution_count": 14,
   "metadata": {},
   "outputs": [
    {
     "name": "stdout",
     "output_type": "stream",
     "text": [
      "Using BernoulliNB - Number of mislabeled points out of a total 1000 points : 353\n",
      "Using GaussianNB - Number of mislabeled points out of a total 1000 points : 434\n",
      "Using MultinomialNB - Number of mislabeled points out of a total 1000 points : 353\n"
     ]
    }
   ],
   "source": [
    "# Compare between different Naive Bayes\n",
    "\n",
    "# SKlearn needs to have the target variable (dependent), and the indepdnent variables (data, df type)\n",
    "data = review_raw[keywords]\n",
    "target = review_raw['score']\n",
    "\n",
    "# importing the classifiers from sklearn.\n",
    "from sklearn.naive_bayes import BernoulliNB\n",
    "from sklearn.naive_bayes import GaussianNB\n",
    "from sklearn.naive_bayes import MultinomialNB\n",
    "\n",
    "# Instantiate our model and store it in a new variable.\n",
    "bnb = BernoulliNB()\n",
    "gnb = GaussianNB()\n",
    "mnb = MultinomialNB()\n",
    "\n",
    "# Fit our model to the data.\n",
    "bnb.fit(data, target)\n",
    "gnb.fit(data, target)\n",
    "mnb.fit(data, target)\n",
    "\n",
    "# Classify, storing the result in a new variable.\n",
    "y_pred = bnb.predict(data)\n",
    "x_pred = gnb.predict(data)\n",
    "z_pred = mnb.predict(data)\n",
    "\n",
    "# Display our results.\n",
    "print(\"Using BernoulliNB - Number of mislabeled points out of a total {} points : {}\".format(\n",
    "    data.shape[0],\n",
    "    (target != y_pred).sum()\n",
    "))\n",
    "\n",
    "print(\"Using GaussianNB - Number of mislabeled points out of a total {} points : {}\".format(\n",
    "    data.shape[0],\n",
    "    (target != x_pred).sum()\n",
    "))\n",
    "\n",
    "print(\"Using MultinomialNB - Number of mislabeled points out of a total {} points : {}\".format(\n",
    "    data.shape[0],\n",
    "    (target != z_pred).sum()\n",
    "))"
   ]
  },
  {
   "cell_type": "markdown",
   "metadata": {},
   "source": [
    "Bernoulli seems the most reasonable one to use since the result is binary. But for the matter of exploration, I also used Gaussian and Multinomial.\n",
    "The Bernoulli did recognize the most but still missed about 1/3.\n",
    "I believe that using a few more words from each category (positive/ negative) would make the result better."
   ]
  }
 ],
 "metadata": {
  "kernelspec": {
   "display_name": "Python 3",
   "language": "python",
   "name": "python3"
  },
  "language_info": {
   "codemirror_mode": {
    "name": "ipython",
    "version": 3
   },
   "file_extension": ".py",
   "mimetype": "text/x-python",
   "name": "python",
   "nbconvert_exporter": "python",
   "pygments_lexer": "ipython3",
   "version": "3.6.7"
  }
 },
 "nbformat": 4,
 "nbformat_minor": 2
}
