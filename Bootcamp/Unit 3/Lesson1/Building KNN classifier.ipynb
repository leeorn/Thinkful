{
 "cells": [
  {
   "cell_type": "markdown",
   "metadata": {},
   "source": [
    "## In this notebook I'll impliment K Nearest Neighbor (2d) algorithm"
   ]
  },
  {
   "cell_type": "code",
   "execution_count": 6,
   "metadata": {},
   "outputs": [],
   "source": [
    "import numpy as np\n",
    "import pandas as pd\n",
    "import matplotlib.pyplot as plt\n",
    "import scipy\n",
    "import math\n",
    "%matplotlib inline"
   ]
  },
  {
   "cell_type": "code",
   "execution_count": 17,
   "metadata": {},
   "outputs": [],
   "source": [
    "# type([24,190]) = list\n",
    "\n",
    "# the df with the points needs to be sorted as x point in the first column, y in the second, category in the third\n",
    "# works only for 2 groups, and 2d \n",
    "def knn_2d(df_data, point, k):\n",
    "    # new list to keep the distances\n",
    "    distance_list = []\n",
    "    # decide from which group it is\n",
    "    group_count = 0\n",
    "    \n",
    "    # calculate the distances\n",
    "    for i in range(len(df_data)):\n",
    "        # distance formula: sqrt((A1-A2)^2 + (B1-B2)^2)\n",
    "        distance = math.sqrt((point[0] - df_data.iloc[i][0]) ** 2 + (point[1] - df_data.iloc[i][1] ** 2))\n",
    "        \n",
    "        # which group \n",
    "        group = music.iloc[i][2]\n",
    "        \n",
    "        # add to the list\n",
    "        distance_list.append([distance, group])\n",
    "        \n",
    "    # sort the list based on distance\n",
    "    distance_list = sorted(distance_list)\n",
    "    \n",
    "    # check the first k group\n",
    "    for y in range(k):\n",
    "        # if it's from group 1 add 1; if it's from group 2 subtract 1\n",
    "        if(distance_list[y][1] == 1):\n",
    "            group_count += 1\n",
    "        else:\n",
    "            group_count -= 1    \n",
    "   \n",
    "    # return the group it belongs to\n",
    "    if group_count == -1:\n",
    "        return 0\n",
    "    elif group_count == 0:   # has the same number of neighbors of both groups\n",
    "        return -1\n",
    "    else:\n",
    "        return 1\n",
    "        "
   ]
  },
  {
   "cell_type": "code",
   "execution_count": 18,
   "metadata": {},
   "outputs": [],
   "source": [
    "# Some data to play with.\n",
    "music = pd.DataFrame()\n",
    "\n",
    "music['duration'] = [184, 134, 243, 186, 122, 197, 294, 382, 102, 264, \n",
    "                     205, 110, 307, 110, 397, 153, 190, 192, 210, 403,\n",
    "                     164, 198, 204, 253, 234, 190, 182, 401, 376, 102]\n",
    "music['loudness'] = [18, 34, 43, 36, 22, 9, 29, 22, 10, 24, \n",
    "                     20, 10, 17, 51, 7, 13, 19, 12, 21, 22,\n",
    "                     16, 18, 4, 23, 34, 19, 14, 11, 37, 42]\n",
    "\n",
    "# We know whether the songs in our training data are jazz or not.\n",
    "music['jazz'] = [ 1, 0, 0, 0, 1, 1, 0, 1, 1, 0,\n",
    "                  0, 1, 1, 0, 1, 1, 0, 1, 1, 1,\n",
    "                  1, 1, 1, 1, 0, 0, 1, 1, 0, 0]\n"
   ]
  },
  {
   "cell_type": "code",
   "execution_count": 20,
   "metadata": {
    "scrolled": true
   },
   "outputs": [
    {
     "data": {
      "text/plain": [
       "1"
      ]
     },
     "execution_count": 20,
     "metadata": {},
     "output_type": "execute_result"
    }
   ],
   "source": [
    "knn_2d(music, [24, 190], 5)"
   ]
  }
 ],
 "metadata": {
  "kernelspec": {
   "display_name": "Python 3",
   "language": "python",
   "name": "python3"
  },
  "language_info": {
   "codemirror_mode": {
    "name": "ipython",
    "version": 3
   },
   "file_extension": ".py",
   "mimetype": "text/x-python",
   "name": "python",
   "nbconvert_exporter": "python",
   "pygments_lexer": "ipython3",
   "version": "3.7.3"
  }
 },
 "nbformat": 4,
 "nbformat_minor": 2
}
