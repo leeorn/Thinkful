{
 "cells": [
  {
   "cell_type": "markdown",
   "metadata": {},
   "source": [
    "## Predict a fraud\n",
    "In this notebook, I'll work on detecting fraud with prioritizing correctly finding fraud rather than correctly labeling non-fraudulent transactions\n",
    "\n",
    "The data is taken from here:<br>\n",
    "https://www.kaggle.com/mlg-ulb/creditcardfraud/downloads/creditcardfraud.zip/3"
   ]
  },
  {
   "cell_type": "code",
   "execution_count": 1,
   "metadata": {},
   "outputs": [],
   "source": [
    "import pandas as pd\n",
    "import numpy as np\n",
    "import matplotlib.pyplot as plt\n",
    "import seaborn as sns\n",
    "\n",
    "from sklearn.utils import resample\n",
    "from sklearn.model_selection import train_test_split\n",
    "from sklearn.ensemble import RandomForestClassifier\n",
    "from sklearn.linear_model import LogisticRegression\n",
    "from sklearn import metrics\n",
    "from sklearn.metrics import confusion_matrix, roc_curve, auc\n",
    "from imblearn.over_sampling import SMOTE"
   ]
  },
  {
   "cell_type": "code",
   "execution_count": 2,
   "metadata": {},
   "outputs": [
    {
     "name": "stdout",
     "output_type": "stream",
     "text": [
      "The data frame shape is: (284807, 31)\n"
     ]
    },
    {
     "data": {
      "text/html": [
       "<div>\n",
       "<style scoped>\n",
       "    .dataframe tbody tr th:only-of-type {\n",
       "        vertical-align: middle;\n",
       "    }\n",
       "\n",
       "    .dataframe tbody tr th {\n",
       "        vertical-align: top;\n",
       "    }\n",
       "\n",
       "    .dataframe thead th {\n",
       "        text-align: right;\n",
       "    }\n",
       "</style>\n",
       "<table border=\"1\" class=\"dataframe\">\n",
       "  <thead>\n",
       "    <tr style=\"text-align: right;\">\n",
       "      <th></th>\n",
       "      <th>Time</th>\n",
       "      <th>V1</th>\n",
       "      <th>V2</th>\n",
       "      <th>V3</th>\n",
       "      <th>V4</th>\n",
       "      <th>V5</th>\n",
       "      <th>V6</th>\n",
       "      <th>V7</th>\n",
       "      <th>V8</th>\n",
       "      <th>V9</th>\n",
       "      <th>...</th>\n",
       "      <th>V21</th>\n",
       "      <th>V22</th>\n",
       "      <th>V23</th>\n",
       "      <th>V24</th>\n",
       "      <th>V25</th>\n",
       "      <th>V26</th>\n",
       "      <th>V27</th>\n",
       "      <th>V28</th>\n",
       "      <th>Amount</th>\n",
       "      <th>Class</th>\n",
       "    </tr>\n",
       "  </thead>\n",
       "  <tbody>\n",
       "    <tr>\n",
       "      <th>0</th>\n",
       "      <td>0.0</td>\n",
       "      <td>-1.359807</td>\n",
       "      <td>-0.072781</td>\n",
       "      <td>2.536347</td>\n",
       "      <td>1.378155</td>\n",
       "      <td>-0.338321</td>\n",
       "      <td>0.462388</td>\n",
       "      <td>0.239599</td>\n",
       "      <td>0.098698</td>\n",
       "      <td>0.363787</td>\n",
       "      <td>...</td>\n",
       "      <td>-0.018307</td>\n",
       "      <td>0.277838</td>\n",
       "      <td>-0.110474</td>\n",
       "      <td>0.066928</td>\n",
       "      <td>0.128539</td>\n",
       "      <td>-0.189115</td>\n",
       "      <td>0.133558</td>\n",
       "      <td>-0.021053</td>\n",
       "      <td>149.62</td>\n",
       "      <td>0</td>\n",
       "    </tr>\n",
       "    <tr>\n",
       "      <th>1</th>\n",
       "      <td>0.0</td>\n",
       "      <td>1.191857</td>\n",
       "      <td>0.266151</td>\n",
       "      <td>0.166480</td>\n",
       "      <td>0.448154</td>\n",
       "      <td>0.060018</td>\n",
       "      <td>-0.082361</td>\n",
       "      <td>-0.078803</td>\n",
       "      <td>0.085102</td>\n",
       "      <td>-0.255425</td>\n",
       "      <td>...</td>\n",
       "      <td>-0.225775</td>\n",
       "      <td>-0.638672</td>\n",
       "      <td>0.101288</td>\n",
       "      <td>-0.339846</td>\n",
       "      <td>0.167170</td>\n",
       "      <td>0.125895</td>\n",
       "      <td>-0.008983</td>\n",
       "      <td>0.014724</td>\n",
       "      <td>2.69</td>\n",
       "      <td>0</td>\n",
       "    </tr>\n",
       "    <tr>\n",
       "      <th>2</th>\n",
       "      <td>1.0</td>\n",
       "      <td>-1.358354</td>\n",
       "      <td>-1.340163</td>\n",
       "      <td>1.773209</td>\n",
       "      <td>0.379780</td>\n",
       "      <td>-0.503198</td>\n",
       "      <td>1.800499</td>\n",
       "      <td>0.791461</td>\n",
       "      <td>0.247676</td>\n",
       "      <td>-1.514654</td>\n",
       "      <td>...</td>\n",
       "      <td>0.247998</td>\n",
       "      <td>0.771679</td>\n",
       "      <td>0.909412</td>\n",
       "      <td>-0.689281</td>\n",
       "      <td>-0.327642</td>\n",
       "      <td>-0.139097</td>\n",
       "      <td>-0.055353</td>\n",
       "      <td>-0.059752</td>\n",
       "      <td>378.66</td>\n",
       "      <td>0</td>\n",
       "    </tr>\n",
       "    <tr>\n",
       "      <th>3</th>\n",
       "      <td>1.0</td>\n",
       "      <td>-0.966272</td>\n",
       "      <td>-0.185226</td>\n",
       "      <td>1.792993</td>\n",
       "      <td>-0.863291</td>\n",
       "      <td>-0.010309</td>\n",
       "      <td>1.247203</td>\n",
       "      <td>0.237609</td>\n",
       "      <td>0.377436</td>\n",
       "      <td>-1.387024</td>\n",
       "      <td>...</td>\n",
       "      <td>-0.108300</td>\n",
       "      <td>0.005274</td>\n",
       "      <td>-0.190321</td>\n",
       "      <td>-1.175575</td>\n",
       "      <td>0.647376</td>\n",
       "      <td>-0.221929</td>\n",
       "      <td>0.062723</td>\n",
       "      <td>0.061458</td>\n",
       "      <td>123.50</td>\n",
       "      <td>0</td>\n",
       "    </tr>\n",
       "    <tr>\n",
       "      <th>4</th>\n",
       "      <td>2.0</td>\n",
       "      <td>-1.158233</td>\n",
       "      <td>0.877737</td>\n",
       "      <td>1.548718</td>\n",
       "      <td>0.403034</td>\n",
       "      <td>-0.407193</td>\n",
       "      <td>0.095921</td>\n",
       "      <td>0.592941</td>\n",
       "      <td>-0.270533</td>\n",
       "      <td>0.817739</td>\n",
       "      <td>...</td>\n",
       "      <td>-0.009431</td>\n",
       "      <td>0.798278</td>\n",
       "      <td>-0.137458</td>\n",
       "      <td>0.141267</td>\n",
       "      <td>-0.206010</td>\n",
       "      <td>0.502292</td>\n",
       "      <td>0.219422</td>\n",
       "      <td>0.215153</td>\n",
       "      <td>69.99</td>\n",
       "      <td>0</td>\n",
       "    </tr>\n",
       "  </tbody>\n",
       "</table>\n",
       "<p>5 rows × 31 columns</p>\n",
       "</div>"
      ],
      "text/plain": [
       "   Time        V1        V2        V3        V4        V5        V6        V7  \\\n",
       "0   0.0 -1.359807 -0.072781  2.536347  1.378155 -0.338321  0.462388  0.239599   \n",
       "1   0.0  1.191857  0.266151  0.166480  0.448154  0.060018 -0.082361 -0.078803   \n",
       "2   1.0 -1.358354 -1.340163  1.773209  0.379780 -0.503198  1.800499  0.791461   \n",
       "3   1.0 -0.966272 -0.185226  1.792993 -0.863291 -0.010309  1.247203  0.237609   \n",
       "4   2.0 -1.158233  0.877737  1.548718  0.403034 -0.407193  0.095921  0.592941   \n",
       "\n",
       "         V8        V9  ...       V21       V22       V23       V24       V25  \\\n",
       "0  0.098698  0.363787  ... -0.018307  0.277838 -0.110474  0.066928  0.128539   \n",
       "1  0.085102 -0.255425  ... -0.225775 -0.638672  0.101288 -0.339846  0.167170   \n",
       "2  0.247676 -1.514654  ...  0.247998  0.771679  0.909412 -0.689281 -0.327642   \n",
       "3  0.377436 -1.387024  ... -0.108300  0.005274 -0.190321 -1.175575  0.647376   \n",
       "4 -0.270533  0.817739  ... -0.009431  0.798278 -0.137458  0.141267 -0.206010   \n",
       "\n",
       "        V26       V27       V28  Amount  Class  \n",
       "0 -0.189115  0.133558 -0.021053  149.62      0  \n",
       "1  0.125895 -0.008983  0.014724    2.69      0  \n",
       "2 -0.139097 -0.055353 -0.059752  378.66      0  \n",
       "3 -0.221929  0.062723  0.061458  123.50      0  \n",
       "4  0.502292  0.219422  0.215153   69.99      0  \n",
       "\n",
       "[5 rows x 31 columns]"
      ]
     },
     "execution_count": 2,
     "metadata": {},
     "output_type": "execute_result"
    }
   ],
   "source": [
    "cc_df = pd.read_csv('credit_card.csv')\n",
    "\n",
    "print(\"The data frame shape is:\", cc_df.shape)\n",
    "\n",
    "cc_df.head()"
   ]
  },
  {
   "cell_type": "code",
   "execution_count": 3,
   "metadata": {},
   "outputs": [
    {
     "data": {
      "text/plain": [
       "492"
      ]
     },
     "execution_count": 3,
     "metadata": {},
     "output_type": "execute_result"
    }
   ],
   "source": [
    "# number of frauds\n",
    "(cc_df['Class'] == 1).sum()"
   ]
  },
  {
   "cell_type": "markdown",
   "metadata": {},
   "source": [
    "### About the data\n",
    "The dataset presents transactions that occurred in two days in September 2013 by European cardholders.\n",
    "Due to confidentiality, the features are represented as V1, V2, etc. The 'Time' feature contains the seconds elapsed between each transaction and the first transaction in the dataset. The 'Amount' feature is the amount of the purchase. 'Class' is the dependent column; 1 means it's a fraud, 0 it's not a fraud. <br>As it can be seen, there are few frauds in the dataset, 492 out of 283807 (0.173%, very unbalanced)."
   ]
  },
  {
   "cell_type": "code",
   "execution_count": 4,
   "metadata": {},
   "outputs": [
    {
     "name": "stdout",
     "output_type": "stream",
     "text": [
      "<class 'pandas.core.frame.DataFrame'>\n",
      "RangeIndex: 284807 entries, 0 to 284806\n",
      "Data columns (total 31 columns):\n",
      "Time      284807 non-null float64\n",
      "V1        284807 non-null float64\n",
      "V2        284807 non-null float64\n",
      "V3        284807 non-null float64\n",
      "V4        284807 non-null float64\n",
      "V5        284807 non-null float64\n",
      "V6        284807 non-null float64\n",
      "V7        284807 non-null float64\n",
      "V8        284807 non-null float64\n",
      "V9        284807 non-null float64\n",
      "V10       284807 non-null float64\n",
      "V11       284807 non-null float64\n",
      "V12       284807 non-null float64\n",
      "V13       284807 non-null float64\n",
      "V14       284807 non-null float64\n",
      "V15       284807 non-null float64\n",
      "V16       284807 non-null float64\n",
      "V17       284807 non-null float64\n",
      "V18       284807 non-null float64\n",
      "V19       284807 non-null float64\n",
      "V20       284807 non-null float64\n",
      "V21       284807 non-null float64\n",
      "V22       284807 non-null float64\n",
      "V23       284807 non-null float64\n",
      "V24       284807 non-null float64\n",
      "V25       284807 non-null float64\n",
      "V26       284807 non-null float64\n",
      "V27       284807 non-null float64\n",
      "V28       284807 non-null float64\n",
      "Amount    284807 non-null float64\n",
      "Class     284807 non-null int64\n",
      "dtypes: float64(30), int64(1)\n",
      "memory usage: 67.4 MB\n"
     ]
    }
   ],
   "source": [
    "# check for null values and type\n",
    "cc_df.info()"
   ]
  },
  {
   "cell_type": "code",
   "execution_count": 5,
   "metadata": {},
   "outputs": [
    {
     "name": "stdout",
     "output_type": "stream",
     "text": [
      "count    284807.000000\n",
      "mean      94813.859575\n",
      "std       47488.145955\n",
      "min           0.000000\n",
      "25%       54201.500000\n",
      "50%       84692.000000\n",
      "75%      139320.500000\n",
      "max      172792.000000\n",
      "Name: Time, dtype: float64\n"
     ]
    },
    {
     "data": {
      "text/html": [
       "<div>\n",
       "<style scoped>\n",
       "    .dataframe tbody tr th:only-of-type {\n",
       "        vertical-align: middle;\n",
       "    }\n",
       "\n",
       "    .dataframe tbody tr th {\n",
       "        vertical-align: top;\n",
       "    }\n",
       "\n",
       "    .dataframe thead th {\n",
       "        text-align: right;\n",
       "    }\n",
       "</style>\n",
       "<table border=\"1\" class=\"dataframe\">\n",
       "  <thead>\n",
       "    <tr style=\"text-align: right;\">\n",
       "      <th></th>\n",
       "      <th>V1</th>\n",
       "      <th>V2</th>\n",
       "      <th>V3</th>\n",
       "      <th>V4</th>\n",
       "      <th>V5</th>\n",
       "      <th>V6</th>\n",
       "      <th>V7</th>\n",
       "      <th>V8</th>\n",
       "      <th>V9</th>\n",
       "      <th>V10</th>\n",
       "      <th>...</th>\n",
       "      <th>V21</th>\n",
       "      <th>V22</th>\n",
       "      <th>V23</th>\n",
       "      <th>V24</th>\n",
       "      <th>V25</th>\n",
       "      <th>V26</th>\n",
       "      <th>V27</th>\n",
       "      <th>V28</th>\n",
       "      <th>Amount</th>\n",
       "      <th>Class</th>\n",
       "    </tr>\n",
       "  </thead>\n",
       "  <tbody>\n",
       "    <tr>\n",
       "      <th>0</th>\n",
       "      <td>-1.359807</td>\n",
       "      <td>-0.072781</td>\n",
       "      <td>2.536347</td>\n",
       "      <td>1.378155</td>\n",
       "      <td>-0.338321</td>\n",
       "      <td>0.462388</td>\n",
       "      <td>0.239599</td>\n",
       "      <td>0.098698</td>\n",
       "      <td>0.363787</td>\n",
       "      <td>0.090794</td>\n",
       "      <td>...</td>\n",
       "      <td>-0.018307</td>\n",
       "      <td>0.277838</td>\n",
       "      <td>-0.110474</td>\n",
       "      <td>0.066928</td>\n",
       "      <td>0.128539</td>\n",
       "      <td>-0.189115</td>\n",
       "      <td>0.133558</td>\n",
       "      <td>-0.021053</td>\n",
       "      <td>149.62</td>\n",
       "      <td>0</td>\n",
       "    </tr>\n",
       "    <tr>\n",
       "      <th>1</th>\n",
       "      <td>1.191857</td>\n",
       "      <td>0.266151</td>\n",
       "      <td>0.166480</td>\n",
       "      <td>0.448154</td>\n",
       "      <td>0.060018</td>\n",
       "      <td>-0.082361</td>\n",
       "      <td>-0.078803</td>\n",
       "      <td>0.085102</td>\n",
       "      <td>-0.255425</td>\n",
       "      <td>-0.166974</td>\n",
       "      <td>...</td>\n",
       "      <td>-0.225775</td>\n",
       "      <td>-0.638672</td>\n",
       "      <td>0.101288</td>\n",
       "      <td>-0.339846</td>\n",
       "      <td>0.167170</td>\n",
       "      <td>0.125895</td>\n",
       "      <td>-0.008983</td>\n",
       "      <td>0.014724</td>\n",
       "      <td>2.69</td>\n",
       "      <td>0</td>\n",
       "    </tr>\n",
       "    <tr>\n",
       "      <th>2</th>\n",
       "      <td>-1.358354</td>\n",
       "      <td>-1.340163</td>\n",
       "      <td>1.773209</td>\n",
       "      <td>0.379780</td>\n",
       "      <td>-0.503198</td>\n",
       "      <td>1.800499</td>\n",
       "      <td>0.791461</td>\n",
       "      <td>0.247676</td>\n",
       "      <td>-1.514654</td>\n",
       "      <td>0.207643</td>\n",
       "      <td>...</td>\n",
       "      <td>0.247998</td>\n",
       "      <td>0.771679</td>\n",
       "      <td>0.909412</td>\n",
       "      <td>-0.689281</td>\n",
       "      <td>-0.327642</td>\n",
       "      <td>-0.139097</td>\n",
       "      <td>-0.055353</td>\n",
       "      <td>-0.059752</td>\n",
       "      <td>378.66</td>\n",
       "      <td>0</td>\n",
       "    </tr>\n",
       "    <tr>\n",
       "      <th>3</th>\n",
       "      <td>-0.966272</td>\n",
       "      <td>-0.185226</td>\n",
       "      <td>1.792993</td>\n",
       "      <td>-0.863291</td>\n",
       "      <td>-0.010309</td>\n",
       "      <td>1.247203</td>\n",
       "      <td>0.237609</td>\n",
       "      <td>0.377436</td>\n",
       "      <td>-1.387024</td>\n",
       "      <td>-0.054952</td>\n",
       "      <td>...</td>\n",
       "      <td>-0.108300</td>\n",
       "      <td>0.005274</td>\n",
       "      <td>-0.190321</td>\n",
       "      <td>-1.175575</td>\n",
       "      <td>0.647376</td>\n",
       "      <td>-0.221929</td>\n",
       "      <td>0.062723</td>\n",
       "      <td>0.061458</td>\n",
       "      <td>123.50</td>\n",
       "      <td>0</td>\n",
       "    </tr>\n",
       "    <tr>\n",
       "      <th>4</th>\n",
       "      <td>-1.158233</td>\n",
       "      <td>0.877737</td>\n",
       "      <td>1.548718</td>\n",
       "      <td>0.403034</td>\n",
       "      <td>-0.407193</td>\n",
       "      <td>0.095921</td>\n",
       "      <td>0.592941</td>\n",
       "      <td>-0.270533</td>\n",
       "      <td>0.817739</td>\n",
       "      <td>0.753074</td>\n",
       "      <td>...</td>\n",
       "      <td>-0.009431</td>\n",
       "      <td>0.798278</td>\n",
       "      <td>-0.137458</td>\n",
       "      <td>0.141267</td>\n",
       "      <td>-0.206010</td>\n",
       "      <td>0.502292</td>\n",
       "      <td>0.219422</td>\n",
       "      <td>0.215153</td>\n",
       "      <td>69.99</td>\n",
       "      <td>0</td>\n",
       "    </tr>\n",
       "  </tbody>\n",
       "</table>\n",
       "<p>5 rows × 30 columns</p>\n",
       "</div>"
      ],
      "text/plain": [
       "         V1        V2        V3        V4        V5        V6        V7  \\\n",
       "0 -1.359807 -0.072781  2.536347  1.378155 -0.338321  0.462388  0.239599   \n",
       "1  1.191857  0.266151  0.166480  0.448154  0.060018 -0.082361 -0.078803   \n",
       "2 -1.358354 -1.340163  1.773209  0.379780 -0.503198  1.800499  0.791461   \n",
       "3 -0.966272 -0.185226  1.792993 -0.863291 -0.010309  1.247203  0.237609   \n",
       "4 -1.158233  0.877737  1.548718  0.403034 -0.407193  0.095921  0.592941   \n",
       "\n",
       "         V8        V9       V10  ...       V21       V22       V23       V24  \\\n",
       "0  0.098698  0.363787  0.090794  ... -0.018307  0.277838 -0.110474  0.066928   \n",
       "1  0.085102 -0.255425 -0.166974  ... -0.225775 -0.638672  0.101288 -0.339846   \n",
       "2  0.247676 -1.514654  0.207643  ...  0.247998  0.771679  0.909412 -0.689281   \n",
       "3  0.377436 -1.387024 -0.054952  ... -0.108300  0.005274 -0.190321 -1.175575   \n",
       "4 -0.270533  0.817739  0.753074  ... -0.009431  0.798278 -0.137458  0.141267   \n",
       "\n",
       "        V25       V26       V27       V28  Amount  Class  \n",
       "0  0.128539 -0.189115  0.133558 -0.021053  149.62      0  \n",
       "1  0.167170  0.125895 -0.008983  0.014724    2.69      0  \n",
       "2 -0.327642 -0.139097 -0.055353 -0.059752  378.66      0  \n",
       "3  0.647376 -0.221929  0.062723  0.061458  123.50      0  \n",
       "4 -0.206010  0.502292  0.219422  0.215153   69.99      0  \n",
       "\n",
       "[5 rows x 30 columns]"
      ]
     },
     "execution_count": 5,
     "metadata": {},
     "output_type": "execute_result"
    }
   ],
   "source": [
    "# Checking into 'Time' since seems to a bit arbitrary\n",
    "print(cc_df['Time'].describe())\n",
    "\n",
    "# it has a huge std and the values continuingly increasing (time past); therefore, dropping this column \n",
    "cc_df = cc_df.drop('Time', axis=1)\n",
    "\n",
    "cc_df.head()"
   ]
  },
  {
   "cell_type": "markdown",
   "metadata": {},
   "source": [
    "## Under sample the non-fraud class\n",
    "First try, under example. There will be the same amount of fraud and not a fraud."
   ]
  },
  {
   "cell_type": "code",
   "execution_count": 6,
   "metadata": {},
   "outputs": [
    {
     "data": {
      "text/html": [
       "<div>\n",
       "<style scoped>\n",
       "    .dataframe tbody tr th:only-of-type {\n",
       "        vertical-align: middle;\n",
       "    }\n",
       "\n",
       "    .dataframe tbody tr th {\n",
       "        vertical-align: top;\n",
       "    }\n",
       "\n",
       "    .dataframe thead th {\n",
       "        text-align: right;\n",
       "    }\n",
       "</style>\n",
       "<table border=\"1\" class=\"dataframe\">\n",
       "  <thead>\n",
       "    <tr style=\"text-align: right;\">\n",
       "      <th></th>\n",
       "      <th>V1</th>\n",
       "      <th>V2</th>\n",
       "      <th>V3</th>\n",
       "      <th>V4</th>\n",
       "      <th>V5</th>\n",
       "      <th>V6</th>\n",
       "      <th>V7</th>\n",
       "      <th>V8</th>\n",
       "      <th>V9</th>\n",
       "      <th>V10</th>\n",
       "      <th>...</th>\n",
       "      <th>V21</th>\n",
       "      <th>V22</th>\n",
       "      <th>V23</th>\n",
       "      <th>V24</th>\n",
       "      <th>V25</th>\n",
       "      <th>V26</th>\n",
       "      <th>V27</th>\n",
       "      <th>V28</th>\n",
       "      <th>Amount</th>\n",
       "      <th>Class</th>\n",
       "    </tr>\n",
       "  </thead>\n",
       "  <tbody>\n",
       "    <tr>\n",
       "      <th>0</th>\n",
       "      <td>0.340391</td>\n",
       "      <td>2.015233</td>\n",
       "      <td>-2.777330</td>\n",
       "      <td>3.812024</td>\n",
       "      <td>-0.461729</td>\n",
       "      <td>-1.152022</td>\n",
       "      <td>-2.001959</td>\n",
       "      <td>0.548681</td>\n",
       "      <td>-2.344042</td>\n",
       "      <td>-3.076699</td>\n",
       "      <td>...</td>\n",
       "      <td>0.299769</td>\n",
       "      <td>-0.583283</td>\n",
       "      <td>-0.187696</td>\n",
       "      <td>-0.329256</td>\n",
       "      <td>0.732328</td>\n",
       "      <td>0.058080</td>\n",
       "      <td>0.553143</td>\n",
       "      <td>0.318832</td>\n",
       "      <td>1.75</td>\n",
       "      <td>1</td>\n",
       "    </tr>\n",
       "    <tr>\n",
       "      <th>1</th>\n",
       "      <td>-0.528744</td>\n",
       "      <td>1.140656</td>\n",
       "      <td>2.749696</td>\n",
       "      <td>2.248082</td>\n",
       "      <td>-0.520847</td>\n",
       "      <td>0.349253</td>\n",
       "      <td>0.051142</td>\n",
       "      <td>0.111876</td>\n",
       "      <td>-0.899911</td>\n",
       "      <td>0.416558</td>\n",
       "      <td>...</td>\n",
       "      <td>0.373029</td>\n",
       "      <td>1.100065</td>\n",
       "      <td>-0.139220</td>\n",
       "      <td>0.438694</td>\n",
       "      <td>-0.469598</td>\n",
       "      <td>0.121542</td>\n",
       "      <td>0.064671</td>\n",
       "      <td>0.158500</td>\n",
       "      <td>26.59</td>\n",
       "      <td>0</td>\n",
       "    </tr>\n",
       "    <tr>\n",
       "      <th>2</th>\n",
       "      <td>-16.598665</td>\n",
       "      <td>10.541751</td>\n",
       "      <td>-19.818982</td>\n",
       "      <td>6.017295</td>\n",
       "      <td>-13.025901</td>\n",
       "      <td>-4.128779</td>\n",
       "      <td>-14.118865</td>\n",
       "      <td>11.161144</td>\n",
       "      <td>-4.099551</td>\n",
       "      <td>-9.222826</td>\n",
       "      <td>...</td>\n",
       "      <td>1.725853</td>\n",
       "      <td>-1.151606</td>\n",
       "      <td>-0.680052</td>\n",
       "      <td>0.108176</td>\n",
       "      <td>1.066878</td>\n",
       "      <td>-0.233720</td>\n",
       "      <td>1.707521</td>\n",
       "      <td>0.511423</td>\n",
       "      <td>99.99</td>\n",
       "      <td>1</td>\n",
       "    </tr>\n",
       "    <tr>\n",
       "      <th>3</th>\n",
       "      <td>-0.157990</td>\n",
       "      <td>0.808268</td>\n",
       "      <td>-0.209369</td>\n",
       "      <td>-0.889306</td>\n",
       "      <td>0.862206</td>\n",
       "      <td>0.110840</td>\n",
       "      <td>0.450504</td>\n",
       "      <td>-0.729776</td>\n",
       "      <td>-0.103142</td>\n",
       "      <td>-0.220816</td>\n",
       "      <td>...</td>\n",
       "      <td>0.566345</td>\n",
       "      <td>-0.906639</td>\n",
       "      <td>0.212416</td>\n",
       "      <td>0.176677</td>\n",
       "      <td>-0.494347</td>\n",
       "      <td>0.101874</td>\n",
       "      <td>-0.133579</td>\n",
       "      <td>-0.015417</td>\n",
       "      <td>3.38</td>\n",
       "      <td>0</td>\n",
       "    </tr>\n",
       "    <tr>\n",
       "      <th>4</th>\n",
       "      <td>-4.384221</td>\n",
       "      <td>3.264665</td>\n",
       "      <td>-3.077158</td>\n",
       "      <td>3.403594</td>\n",
       "      <td>-1.938075</td>\n",
       "      <td>-1.221081</td>\n",
       "      <td>-3.310317</td>\n",
       "      <td>-1.111975</td>\n",
       "      <td>-1.977593</td>\n",
       "      <td>-3.288204</td>\n",
       "      <td>...</td>\n",
       "      <td>2.076383</td>\n",
       "      <td>-0.990303</td>\n",
       "      <td>-0.330358</td>\n",
       "      <td>0.158378</td>\n",
       "      <td>0.006351</td>\n",
       "      <td>-0.493860</td>\n",
       "      <td>-1.537652</td>\n",
       "      <td>-0.994022</td>\n",
       "      <td>45.64</td>\n",
       "      <td>1</td>\n",
       "    </tr>\n",
       "    <tr>\n",
       "      <th>5</th>\n",
       "      <td>1.176718</td>\n",
       "      <td>0.225465</td>\n",
       "      <td>0.180054</td>\n",
       "      <td>0.745292</td>\n",
       "      <td>-0.373010</td>\n",
       "      <td>-1.333548</td>\n",
       "      <td>0.438459</td>\n",
       "      <td>-0.385405</td>\n",
       "      <td>-0.246557</td>\n",
       "      <td>-0.061283</td>\n",
       "      <td>...</td>\n",
       "      <td>-0.001115</td>\n",
       "      <td>-0.032230</td>\n",
       "      <td>-0.066995</td>\n",
       "      <td>0.770536</td>\n",
       "      <td>0.535563</td>\n",
       "      <td>0.340190</td>\n",
       "      <td>-0.054639</td>\n",
       "      <td>0.018470</td>\n",
       "      <td>48.00</td>\n",
       "      <td>0</td>\n",
       "    </tr>\n",
       "    <tr>\n",
       "      <th>6</th>\n",
       "      <td>-1.644403</td>\n",
       "      <td>3.129852</td>\n",
       "      <td>-2.576977</td>\n",
       "      <td>3.415573</td>\n",
       "      <td>-0.448525</td>\n",
       "      <td>-1.241893</td>\n",
       "      <td>-1.991652</td>\n",
       "      <td>1.002665</td>\n",
       "      <td>-2.809071</td>\n",
       "      <td>-4.153692</td>\n",
       "      <td>...</td>\n",
       "      <td>0.417762</td>\n",
       "      <td>-0.648576</td>\n",
       "      <td>-0.318617</td>\n",
       "      <td>-0.680413</td>\n",
       "      <td>0.389869</td>\n",
       "      <td>0.055750</td>\n",
       "      <td>0.394682</td>\n",
       "      <td>0.298821</td>\n",
       "      <td>6.62</td>\n",
       "      <td>1</td>\n",
       "    </tr>\n",
       "    <tr>\n",
       "      <th>7</th>\n",
       "      <td>-0.781530</td>\n",
       "      <td>0.557188</td>\n",
       "      <td>1.510557</td>\n",
       "      <td>0.171665</td>\n",
       "      <td>0.204967</td>\n",
       "      <td>0.667720</td>\n",
       "      <td>0.380158</td>\n",
       "      <td>0.385883</td>\n",
       "      <td>0.295963</td>\n",
       "      <td>-1.509618</td>\n",
       "      <td>...</td>\n",
       "      <td>-0.326181</td>\n",
       "      <td>-0.862129</td>\n",
       "      <td>-0.071215</td>\n",
       "      <td>0.550284</td>\n",
       "      <td>0.368185</td>\n",
       "      <td>-0.717274</td>\n",
       "      <td>0.112392</td>\n",
       "      <td>0.110880</td>\n",
       "      <td>69.99</td>\n",
       "      <td>0</td>\n",
       "    </tr>\n",
       "    <tr>\n",
       "      <th>8</th>\n",
       "      <td>2.149687</td>\n",
       "      <td>-0.615148</td>\n",
       "      <td>-1.792341</td>\n",
       "      <td>-0.663043</td>\n",
       "      <td>-0.075483</td>\n",
       "      <td>-0.869555</td>\n",
       "      <td>0.059361</td>\n",
       "      <td>-0.352590</td>\n",
       "      <td>-0.711351</td>\n",
       "      <td>0.849685</td>\n",
       "      <td>...</td>\n",
       "      <td>-0.335943</td>\n",
       "      <td>-0.312376</td>\n",
       "      <td>0.047117</td>\n",
       "      <td>-0.391574</td>\n",
       "      <td>0.207424</td>\n",
       "      <td>0.117806</td>\n",
       "      <td>-0.041071</td>\n",
       "      <td>-0.076746</td>\n",
       "      <td>24.99</td>\n",
       "      <td>0</td>\n",
       "    </tr>\n",
       "    <tr>\n",
       "      <th>9</th>\n",
       "      <td>2.049329</td>\n",
       "      <td>-1.592980</td>\n",
       "      <td>-0.331292</td>\n",
       "      <td>-1.153714</td>\n",
       "      <td>-2.059141</td>\n",
       "      <td>-1.484827</td>\n",
       "      <td>-0.963888</td>\n",
       "      <td>-0.284422</td>\n",
       "      <td>-1.118354</td>\n",
       "      <td>1.476460</td>\n",
       "      <td>...</td>\n",
       "      <td>-0.542406</td>\n",
       "      <td>-1.312141</td>\n",
       "      <td>0.594530</td>\n",
       "      <td>0.822952</td>\n",
       "      <td>-0.800522</td>\n",
       "      <td>-0.727730</td>\n",
       "      <td>0.002176</td>\n",
       "      <td>-0.016460</td>\n",
       "      <td>99.87</td>\n",
       "      <td>0</td>\n",
       "    </tr>\n",
       "  </tbody>\n",
       "</table>\n",
       "<p>10 rows × 30 columns</p>\n",
       "</div>"
      ],
      "text/plain": [
       "          V1         V2         V3        V4         V5        V6         V7  \\\n",
       "0   0.340391   2.015233  -2.777330  3.812024  -0.461729 -1.152022  -2.001959   \n",
       "1  -0.528744   1.140656   2.749696  2.248082  -0.520847  0.349253   0.051142   \n",
       "2 -16.598665  10.541751 -19.818982  6.017295 -13.025901 -4.128779 -14.118865   \n",
       "3  -0.157990   0.808268  -0.209369 -0.889306   0.862206  0.110840   0.450504   \n",
       "4  -4.384221   3.264665  -3.077158  3.403594  -1.938075 -1.221081  -3.310317   \n",
       "5   1.176718   0.225465   0.180054  0.745292  -0.373010 -1.333548   0.438459   \n",
       "6  -1.644403   3.129852  -2.576977  3.415573  -0.448525 -1.241893  -1.991652   \n",
       "7  -0.781530   0.557188   1.510557  0.171665   0.204967  0.667720   0.380158   \n",
       "8   2.149687  -0.615148  -1.792341 -0.663043  -0.075483 -0.869555   0.059361   \n",
       "9   2.049329  -1.592980  -0.331292 -1.153714  -2.059141 -1.484827  -0.963888   \n",
       "\n",
       "          V8        V9       V10  ...       V21       V22       V23       V24  \\\n",
       "0   0.548681 -2.344042 -3.076699  ...  0.299769 -0.583283 -0.187696 -0.329256   \n",
       "1   0.111876 -0.899911  0.416558  ...  0.373029  1.100065 -0.139220  0.438694   \n",
       "2  11.161144 -4.099551 -9.222826  ...  1.725853 -1.151606 -0.680052  0.108176   \n",
       "3  -0.729776 -0.103142 -0.220816  ...  0.566345 -0.906639  0.212416  0.176677   \n",
       "4  -1.111975 -1.977593 -3.288204  ...  2.076383 -0.990303 -0.330358  0.158378   \n",
       "5  -0.385405 -0.246557 -0.061283  ... -0.001115 -0.032230 -0.066995  0.770536   \n",
       "6   1.002665 -2.809071 -4.153692  ...  0.417762 -0.648576 -0.318617 -0.680413   \n",
       "7   0.385883  0.295963 -1.509618  ... -0.326181 -0.862129 -0.071215  0.550284   \n",
       "8  -0.352590 -0.711351  0.849685  ... -0.335943 -0.312376  0.047117 -0.391574   \n",
       "9  -0.284422 -1.118354  1.476460  ... -0.542406 -1.312141  0.594530  0.822952   \n",
       "\n",
       "        V25       V26       V27       V28  Amount  Class  \n",
       "0  0.732328  0.058080  0.553143  0.318832    1.75      1  \n",
       "1 -0.469598  0.121542  0.064671  0.158500   26.59      0  \n",
       "2  1.066878 -0.233720  1.707521  0.511423   99.99      1  \n",
       "3 -0.494347  0.101874 -0.133579 -0.015417    3.38      0  \n",
       "4  0.006351 -0.493860 -1.537652 -0.994022   45.64      1  \n",
       "5  0.535563  0.340190 -0.054639  0.018470   48.00      0  \n",
       "6  0.389869  0.055750  0.394682  0.298821    6.62      1  \n",
       "7  0.368185 -0.717274  0.112392  0.110880   69.99      0  \n",
       "8  0.207424  0.117806 -0.041071 -0.076746   24.99      0  \n",
       "9 -0.800522 -0.727730  0.002176 -0.016460   99.87      0  \n",
       "\n",
       "[10 rows x 30 columns]"
      ]
     },
     "execution_count": 6,
     "metadata": {},
     "output_type": "execute_result"
    }
   ],
   "source": [
    "# df with only frauds\n",
    "fraud_df = cc_df[cc_df['Class'] == 1]\n",
    "\n",
    "# df with only non-frauds\n",
    "non_fraud_df = cc_df[cc_df['Class'] == 0]\n",
    "\n",
    "# under sample non frauds\n",
    "tmp = non_fraud_df.sample(n=492)\n",
    "\n",
    "# concatenate the fraud and non fraud (492 rows each)\n",
    "under_smp = pd.concat([fraud_df, tmp])\n",
    "\n",
    "# mix the data\n",
    "under_smp = under_smp.sample(frac=1, random_state=3)\n",
    "\n",
    "# reset the index\n",
    "under_smp = under_smp.reset_index(drop=True)\n",
    "\n",
    "under_smp.head(10)"
   ]
  },
  {
   "cell_type": "code",
   "execution_count": 7,
   "metadata": {},
   "outputs": [],
   "source": [
    "# separate to X and y\n",
    "X = under_smp.iloc[:, :-1]\n",
    "y = under_smp['Class']\n",
    "\n",
    "# split the data\n",
    "X_train, X_test, y_train, y_test = train_test_split(X, y, test_size=0.33, random_state=24)"
   ]
  },
  {
   "cell_type": "code",
   "execution_count": 8,
   "metadata": {},
   "outputs": [
    {
     "data": {
      "text/plain": [
       "RandomForestClassifier(bootstrap=True, class_weight=None, criterion='gini',\n",
       "                       max_depth=3, max_features='auto', max_leaf_nodes=None,\n",
       "                       min_impurity_decrease=0.0, min_impurity_split=None,\n",
       "                       min_samples_leaf=1, min_samples_split=2,\n",
       "                       min_weight_fraction_leaf=0.0, n_estimators=10,\n",
       "                       n_jobs=None, oob_score=False, random_state=None,\n",
       "                       verbose=0, warm_start=False)"
      ]
     },
     "execution_count": 8,
     "metadata": {},
     "output_type": "execute_result"
    }
   ],
   "source": [
    "# train using Random forest\n",
    "rfc = RandomForestClassifier(n_estimators=10, max_depth=3)\n",
    "rfc.fit(X_train, y_train)"
   ]
  },
  {
   "cell_type": "code",
   "execution_count": 9,
   "metadata": {},
   "outputs": [],
   "source": [
    "# function to calculate recall, precision, correctly and f1\n",
    "def calc_values(cm, name):\n",
    "    # recall is the TP / #of actual positive\n",
    "    recall = cm[1][1] / (cm[1][1] + cm[1][0])\n",
    "    # precision is TP / #of predicted positive\n",
    "    precision =  cm[1][1] / (cm[1][1] + cm[0][1])\n",
    "    # correctly identified negative values\n",
    "    specificity = cm[0][0] / (cm[0][0] + cm[0][1])\n",
    "    \n",
    "    # calcualte f1\n",
    "    score = 2 * ((recall * precision) / (recall + precision))\n",
    "    # add f1 score to a dictionary\n",
    "    f1 = score\n",
    "    \n",
    "    print(\"Using {};\\nRecall is {}, \\nPrecision is {} \\nSpecificity {}.\".format(name, recall, precision, specificity))\n",
    "    print(\"f1 score is:\", score)\n",
    "    \n",
    "    return f1"
   ]
  },
  {
   "cell_type": "code",
   "execution_count": 10,
   "metadata": {},
   "outputs": [
    {
     "data": {
      "text/plain": [
       "array([[165,   1],\n",
       "       [ 22, 137]], dtype=int64)"
      ]
     },
     "execution_count": 10,
     "metadata": {},
     "output_type": "execute_result"
    }
   ],
   "source": [
    "rfc_pred = rfc.predict(X_test)\n",
    "cm = confusion_matrix(y_test, rfc_pred)\n",
    "cm\n",
    "\n",
    "# the order of the CM is\n",
    "# true negative,  false positive\n",
    "# false negative, true positive"
   ]
  },
  {
   "cell_type": "code",
   "execution_count": 11,
   "metadata": {},
   "outputs": [],
   "source": [
    "# ROC curve\n",
    "y_pred_proba = rfc.predict_proba(X_test)[::,1]\n",
    "fpr1, tpr1, _ = metrics.roc_curve(y_test,  y_pred_proba)\n",
    "auc1 = metrics.roc_auc_score(y_test, y_pred_proba)"
   ]
  },
  {
   "cell_type": "code",
   "execution_count": 12,
   "metadata": {},
   "outputs": [
    {
     "data": {
      "image/png": "[encoded data removed]",
      "text/plain": [
       "<Figure size 432x288 with 2 Axes>"
      ]
     },
     "metadata": {
      "needs_background": "light"
     },
     "output_type": "display_data"
    }
   ],
   "source": [
    "ax = plt.subplot()\n",
    "sns.heatmap(cm, annot=True, ax = ax); #annot=True to annotate cells\n",
    "\n",
    "# labels, title and ticks\n",
    "ax.set_xlabel('Predicted labels');ax.set_ylabel('True labels'); \n",
    "ax.set_title('Confusion Matrix'); \n",
    "ax.xaxis.set_ticklabels(['Not-Fraud', 'Fraud']); ax.yaxis.set_ticklabels(['Not-Fraud', 'Fraud']);"
   ]
  },
  {
   "cell_type": "code",
   "execution_count": 13,
   "metadata": {},
   "outputs": [
    {
     "name": "stdout",
     "output_type": "stream",
     "text": [
      "Using under_sampled_forest;\n",
      "Recall is 0.8616352201257862, \n",
      "Precision is 0.9927536231884058 \n",
      "Specificity 0.9939759036144579.\n",
      "f1 score is: 0.9225589225589226\n"
     ]
    }
   ],
   "source": [
    "# get values for this model\n",
    "f = calc_values(cm, \"under_sampled_forest\")\n",
    "\n",
    "# create a dictionary with the name and its f1 score\n",
    "f1_score = {\"under_sampled_forest\": f}"
   ]
  },
  {
   "cell_type": "code",
   "execution_count": 14,
   "metadata": {},
   "outputs": [
    {
     "data": {
      "text/plain": [
       "LogisticRegression(C=1.0, class_weight=None, dual=False, fit_intercept=True,\n",
       "                   intercept_scaling=1, l1_ratio=None, max_iter=100,\n",
       "                   multi_class='warn', n_jobs=None, penalty='l2',\n",
       "                   random_state=None, solver='liblinear', tol=0.0001, verbose=0,\n",
       "                   warm_start=False)"
      ]
     },
     "execution_count": 14,
     "metadata": {},
     "output_type": "execute_result"
    }
   ],
   "source": [
    "# compare to logistic regression\n",
    "lrg = LogisticRegression(penalty='l2', solver='liblinear') # lasso\n",
    "lrg.fit(X_train, y_train)"
   ]
  },
  {
   "cell_type": "code",
   "execution_count": 15,
   "metadata": {},
   "outputs": [
    {
     "data": {
      "text/plain": [
       "array([[160,   6],\n",
       "       [ 14, 145]], dtype=int64)"
      ]
     },
     "execution_count": 15,
     "metadata": {},
     "output_type": "execute_result"
    }
   ],
   "source": [
    "lrg_pred = lrg.predict(X_test)\n",
    "cm = confusion_matrix(y_test, lrg_pred)\n",
    "cm"
   ]
  },
  {
   "cell_type": "code",
   "execution_count": 16,
   "metadata": {},
   "outputs": [
    {
     "name": "stdout",
     "output_type": "stream",
     "text": [
      "Using under_sampled_lasso;\n",
      "Recall is 0.9119496855345912, \n",
      "Precision is 0.9602649006622517 \n",
      "Specificity 0.963855421686747.\n",
      "f1 score is: 0.935483870967742\n"
     ]
    }
   ],
   "source": [
    "# get values for lasso regression\n",
    "f1 = calc_values(cm, \"under_sampled_lasso\")\n",
    "\n",
    "# append its f1 to dict\n",
    "f1_score.update({\"under_sampled_lasso\": f1})"
   ]
  },
  {
   "cell_type": "code",
   "execution_count": 17,
   "metadata": {},
   "outputs": [],
   "source": [
    "# ROC Lasso\n",
    "y_pred_proba = lrg.predict_proba(X_test)[::,1]\n",
    "fpr2, tpr2, _ = metrics.roc_curve(y_test,  y_pred_proba)\n",
    "auc2 = metrics.roc_auc_score(y_test, y_pred_proba)"
   ]
  },
  {
   "cell_type": "code",
   "execution_count": 18,
   "metadata": {},
   "outputs": [
    {
     "data": {
      "image/png": "[encoded data removed]",
      "text/plain": [
       "<Figure size 432x288 with 1 Axes>"
      ]
     },
     "metadata": {
      "needs_background": "light"
     },
     "output_type": "display_data"
    }
   ],
   "source": [
    "# plot the two curves\n",
    "plt.plot(fpr1,tpr1,label=\"Random forest auc=\"+str(auc1))\n",
    "plt.plot(fpr2,tpr2,label=\"Lasso regression auc=\"+str(auc2))\n",
    "plt.legend(loc=4)\n",
    "plt.show()"
   ]
  },
  {
   "cell_type": "markdown",
   "metadata": {},
   "source": [
    "## Next, compare it to SMOTE\n",
    "SMOTE creates syntactic frauds (not duplicate values) based on its neighbors"
   ]
  },
  {
   "cell_type": "code",
   "execution_count": 19,
   "metadata": {},
   "outputs": [],
   "source": [
    "# separate to X and y from origianl df\n",
    "X = cc_df.iloc[:, :-1]\n",
    "y = cc_df['Class']"
   ]
  },
  {
   "cell_type": "code",
   "execution_count": 20,
   "metadata": {},
   "outputs": [
    {
     "name": "stdout",
     "output_type": "stream",
     "text": [
      "Before SMOTE; there are 492 frauds and 284315 not frauds\n",
      "After SMOTE; y has 284315 frauds and 284315 not frauds\n"
     ]
    }
   ],
   "source": [
    "ones = (y == 1).sum()\n",
    "zeros = (y == 0).sum()\n",
    "\n",
    "print(\"Before SMOTE; there are {} frauds and {} not frauds\".format(ones, zeros))\n",
    "\n",
    "smt = SMOTE(random_state=24)\n",
    "# X_SMOTE, y_SMOTE = smt.fit_sample(X_train, y_train)\n",
    "X_SMOTE, y_SMOTE = smt.fit_sample(X, y)\n",
    "\n",
    "\n",
    "ones = (y_SMOTE == 1).sum()\n",
    "zeros = (y_SMOTE == 0).sum()\n",
    "print(\"After SMOTE; y has {} frauds and {} not frauds\".format(ones, zeros))"
   ]
  },
  {
   "cell_type": "code",
   "execution_count": 21,
   "metadata": {},
   "outputs": [],
   "source": [
    "# split the data\n",
    "X_train, X_test, y_train, y_test = train_test_split(X, y, test_size=0.33, random_state=24)"
   ]
  },
  {
   "cell_type": "markdown",
   "metadata": {},
   "source": [
    "After we matched the sizes of the classes, I'll repeat the same procedure as above to check for precision"
   ]
  },
  {
   "cell_type": "code",
   "execution_count": 22,
   "metadata": {},
   "outputs": [
    {
     "data": {
      "text/plain": [
       "array([[92321,  1499],\n",
       "       [   23,   144]], dtype=int64)"
      ]
     },
     "execution_count": 22,
     "metadata": {},
     "output_type": "execute_result"
    }
   ],
   "source": [
    "# random forest\n",
    "rfc_pred = rfc.predict(X_test)\n",
    "cm = confusion_matrix(y_test, rfc_pred)\n",
    "cm"
   ]
  },
  {
   "cell_type": "code",
   "execution_count": 23,
   "metadata": {},
   "outputs": [
    {
     "name": "stdout",
     "output_type": "stream",
     "text": [
      "Using SMOTE_random_forest;\n",
      "Recall is 0.8622754491017964, \n",
      "Precision is 0.08764455264759587 \n",
      "Specificity 0.9840225964613089.\n",
      "f1 score is: 0.15911602209944753\n"
     ]
    }
   ],
   "source": [
    "# get values for lasso regression\n",
    "f1 = calc_values(cm, \"SMOTE_random_forest\")\n",
    "\n",
    "# append its f1 to dict\n",
    "f1_score.update({\"SMOTE_random_forest\": f1})"
   ]
  },
  {
   "cell_type": "code",
   "execution_count": 24,
   "metadata": {},
   "outputs": [],
   "source": [
    "# ROC curve forest\n",
    "y_pred_proba = rfc.predict_proba(X_test)[::,1]\n",
    "fpr1, tpr1, _ = metrics.roc_curve(y_test,  y_pred_proba)\n",
    "auc1 = metrics.roc_auc_score(y_test, y_pred_proba)"
   ]
  },
  {
   "cell_type": "code",
   "execution_count": 25,
   "metadata": {},
   "outputs": [
    {
     "data": {
      "text/plain": [
       "array([[89670,  4150],\n",
       "       [   17,   150]], dtype=int64)"
      ]
     },
     "execution_count": 25,
     "metadata": {},
     "output_type": "execute_result"
    }
   ],
   "source": [
    "# lasso regression\n",
    "lrg_pred = lrg.predict(X_test)\n",
    "cm = confusion_matrix(y_test, lrg_pred)\n",
    "cm"
   ]
  },
  {
   "cell_type": "code",
   "execution_count": 26,
   "metadata": {},
   "outputs": [
    {
     "name": "stdout",
     "output_type": "stream",
     "text": [
      "Using SMOTE_lasso;\n",
      "Recall is 0.8982035928143712, \n",
      "Precision is 0.03488372093023256 \n",
      "Specificity 0.9557663611170326.\n",
      "f1 score is: 0.0671591672263264\n"
     ]
    }
   ],
   "source": [
    "# get values for lasso regression\n",
    "f1 = calc_values(cm, \"SMOTE_lasso\")\n",
    "\n",
    "# append its f1 to dict\n",
    "f1_score.update({\"SMOTE_laso\": f1})"
   ]
  },
  {
   "cell_type": "code",
   "execution_count": 27,
   "metadata": {},
   "outputs": [],
   "source": [
    "# ROC Lasso\n",
    "y_pred_proba = lrg.predict_proba(X_test)[::,1]\n",
    "fpr2, tpr2, _ = metrics.roc_curve(y_test,  y_pred_proba)\n",
    "auc2 = metrics.roc_auc_score(y_test, y_pred_proba)"
   ]
  },
  {
   "cell_type": "code",
   "execution_count": 28,
   "metadata": {},
   "outputs": [
    {
     "data": {
      "image/png": "[encoded data removed]",
      "text/plain": [
       "<Figure size 432x288 with 1 Axes>"
      ]
     },
     "metadata": {
      "needs_background": "light"
     },
     "output_type": "display_data"
    }
   ],
   "source": [
    "# plot the two curves\n",
    "plt.plot(fpr1,tpr1,label=\"Random forest auc=\"+str(auc1))\n",
    "plt.plot(fpr2,tpr2,label=\"Lasso regression auc=\"+str(auc2))\n",
    "plt.legend(loc=4)\n",
    "plt.show()"
   ]
  },
  {
   "cell_type": "markdown",
   "metadata": {},
   "source": [
    "## Using regular oversampling\n",
    "Lastly, using 'regular' oversampling, here the fraud class will be multiplied several times. Since we don't want to have the same exact data (copy) in the training and the test, first split the data, then copy the underrepresented class to match the size and train the data (although the test group will have very few from the fraud class, therefore the test size will by 35%)"
   ]
  },
  {
   "cell_type": "code",
   "execution_count": 29,
   "metadata": {},
   "outputs": [
    {
     "data": {
      "text/html": [
       "<div>\n",
       "<style scoped>\n",
       "    .dataframe tbody tr th:only-of-type {\n",
       "        vertical-align: middle;\n",
       "    }\n",
       "\n",
       "    .dataframe tbody tr th {\n",
       "        vertical-align: top;\n",
       "    }\n",
       "\n",
       "    .dataframe thead th {\n",
       "        text-align: right;\n",
       "    }\n",
       "</style>\n",
       "<table border=\"1\" class=\"dataframe\">\n",
       "  <thead>\n",
       "    <tr style=\"text-align: right;\">\n",
       "      <th></th>\n",
       "      <th>V1</th>\n",
       "      <th>V2</th>\n",
       "      <th>V3</th>\n",
       "      <th>V4</th>\n",
       "      <th>V5</th>\n",
       "      <th>V6</th>\n",
       "      <th>V7</th>\n",
       "      <th>V8</th>\n",
       "      <th>V9</th>\n",
       "      <th>V10</th>\n",
       "      <th>...</th>\n",
       "      <th>V21</th>\n",
       "      <th>V22</th>\n",
       "      <th>V23</th>\n",
       "      <th>V24</th>\n",
       "      <th>V25</th>\n",
       "      <th>V26</th>\n",
       "      <th>V27</th>\n",
       "      <th>V28</th>\n",
       "      <th>Amount</th>\n",
       "      <th>Class</th>\n",
       "    </tr>\n",
       "  </thead>\n",
       "  <tbody>\n",
       "    <tr>\n",
       "      <th>184448</th>\n",
       "      <td>-3.253089</td>\n",
       "      <td>-1.182952</td>\n",
       "      <td>-0.432007</td>\n",
       "      <td>0.490969</td>\n",
       "      <td>-2.109627</td>\n",
       "      <td>1.743469</td>\n",
       "      <td>1.502307</td>\n",
       "      <td>0.492965</td>\n",
       "      <td>-1.560480</td>\n",
       "      <td>0.499926</td>\n",
       "      <td>...</td>\n",
       "      <td>-0.443988</td>\n",
       "      <td>-0.569052</td>\n",
       "      <td>-0.706064</td>\n",
       "      <td>0.247650</td>\n",
       "      <td>0.549410</td>\n",
       "      <td>-0.414145</td>\n",
       "      <td>0.359230</td>\n",
       "      <td>-0.564331</td>\n",
       "      <td>564.00</td>\n",
       "      <td>0</td>\n",
       "    </tr>\n",
       "    <tr>\n",
       "      <th>174226</th>\n",
       "      <td>1.684886</td>\n",
       "      <td>-0.446886</td>\n",
       "      <td>-2.134385</td>\n",
       "      <td>1.204580</td>\n",
       "      <td>0.744735</td>\n",
       "      <td>-0.091466</td>\n",
       "      <td>0.672364</td>\n",
       "      <td>-0.161798</td>\n",
       "      <td>0.023224</td>\n",
       "      <td>0.353587</td>\n",
       "      <td>...</td>\n",
       "      <td>0.166996</td>\n",
       "      <td>0.206735</td>\n",
       "      <td>-0.184818</td>\n",
       "      <td>0.218896</td>\n",
       "      <td>0.424004</td>\n",
       "      <td>-0.529872</td>\n",
       "      <td>-0.061202</td>\n",
       "      <td>-0.040061</td>\n",
       "      <td>186.14</td>\n",
       "      <td>0</td>\n",
       "    </tr>\n",
       "    <tr>\n",
       "      <th>210568</th>\n",
       "      <td>2.039951</td>\n",
       "      <td>-0.050436</td>\n",
       "      <td>-1.822929</td>\n",
       "      <td>0.257979</td>\n",
       "      <td>0.440332</td>\n",
       "      <td>-0.385512</td>\n",
       "      <td>-0.074735</td>\n",
       "      <td>0.066006</td>\n",
       "      <td>0.553760</td>\n",
       "      <td>-0.157928</td>\n",
       "      <td>...</td>\n",
       "      <td>-0.346126</td>\n",
       "      <td>-1.016137</td>\n",
       "      <td>0.330044</td>\n",
       "      <td>0.141654</td>\n",
       "      <td>-0.339795</td>\n",
       "      <td>0.180694</td>\n",
       "      <td>-0.076644</td>\n",
       "      <td>-0.048042</td>\n",
       "      <td>0.89</td>\n",
       "      <td>0</td>\n",
       "    </tr>\n",
       "    <tr>\n",
       "      <th>189523</th>\n",
       "      <td>2.138787</td>\n",
       "      <td>0.180878</td>\n",
       "      <td>-2.521674</td>\n",
       "      <td>0.305336</td>\n",
       "      <td>0.951684</td>\n",
       "      <td>-1.246748</td>\n",
       "      <td>0.900916</td>\n",
       "      <td>-0.492735</td>\n",
       "      <td>-0.341040</td>\n",
       "      <td>0.453356</td>\n",
       "      <td>...</td>\n",
       "      <td>0.282376</td>\n",
       "      <td>0.973470</td>\n",
       "      <td>-0.247337</td>\n",
       "      <td>-0.397669</td>\n",
       "      <td>0.707508</td>\n",
       "      <td>0.734221</td>\n",
       "      <td>-0.129358</td>\n",
       "      <td>-0.109097</td>\n",
       "      <td>0.00</td>\n",
       "      <td>0</td>\n",
       "    </tr>\n",
       "    <tr>\n",
       "      <th>257307</th>\n",
       "      <td>2.116617</td>\n",
       "      <td>0.139888</td>\n",
       "      <td>-1.953847</td>\n",
       "      <td>0.277857</td>\n",
       "      <td>0.703663</td>\n",
       "      <td>-0.540145</td>\n",
       "      <td>0.171286</td>\n",
       "      <td>-0.196868</td>\n",
       "      <td>0.538975</td>\n",
       "      <td>-0.376605</td>\n",
       "      <td>...</td>\n",
       "      <td>-0.404050</td>\n",
       "      <td>-1.056917</td>\n",
       "      <td>0.266147</td>\n",
       "      <td>-0.063128</td>\n",
       "      <td>-0.179438</td>\n",
       "      <td>0.208740</td>\n",
       "      <td>-0.063697</td>\n",
       "      <td>-0.036526</td>\n",
       "      <td>1.98</td>\n",
       "      <td>0</td>\n",
       "    </tr>\n",
       "  </tbody>\n",
       "</table>\n",
       "<p>5 rows × 30 columns</p>\n",
       "</div>"
      ],
      "text/plain": [
       "              V1        V2        V3        V4        V5        V6        V7  \\\n",
       "184448 -3.253089 -1.182952 -0.432007  0.490969 -2.109627  1.743469  1.502307   \n",
       "174226  1.684886 -0.446886 -2.134385  1.204580  0.744735 -0.091466  0.672364   \n",
       "210568  2.039951 -0.050436 -1.822929  0.257979  0.440332 -0.385512 -0.074735   \n",
       "189523  2.138787  0.180878 -2.521674  0.305336  0.951684 -1.246748  0.900916   \n",
       "257307  2.116617  0.139888 -1.953847  0.277857  0.703663 -0.540145  0.171286   \n",
       "\n",
       "              V8        V9       V10  ...       V21       V22       V23  \\\n",
       "184448  0.492965 -1.560480  0.499926  ... -0.443988 -0.569052 -0.706064   \n",
       "174226 -0.161798  0.023224  0.353587  ...  0.166996  0.206735 -0.184818   \n",
       "210568  0.066006  0.553760 -0.157928  ... -0.346126 -1.016137  0.330044   \n",
       "189523 -0.492735 -0.341040  0.453356  ...  0.282376  0.973470 -0.247337   \n",
       "257307 -0.196868  0.538975 -0.376605  ... -0.404050 -1.056917  0.266147   \n",
       "\n",
       "             V24       V25       V26       V27       V28  Amount  Class  \n",
       "184448  0.247650  0.549410 -0.414145  0.359230 -0.564331  564.00      0  \n",
       "174226  0.218896  0.424004 -0.529872 -0.061202 -0.040061  186.14      0  \n",
       "210568  0.141654 -0.339795  0.180694 -0.076644 -0.048042    0.89      0  \n",
       "189523 -0.397669  0.707508  0.734221 -0.129358 -0.109097    0.00      0  \n",
       "257307 -0.063128 -0.179438  0.208740 -0.063697 -0.036526    1.98      0  \n",
       "\n",
       "[5 rows x 30 columns]"
      ]
     },
     "execution_count": 29,
     "metadata": {},
     "output_type": "execute_result"
    }
   ],
   "source": [
    "# Separate input features and target\n",
    "y = cc_df['Class']\n",
    "X = cc_df.drop('Class', axis=1)\n",
    "\n",
    "# setting up testing and training sets\n",
    "X_train, X_test, y_train, y_test = train_test_split(X, y, test_size=0.35, random_state=243)\n",
    "\n",
    "# concatenate our training data back together\n",
    "tmp = pd.concat([X_train, y_train], axis=1)\n",
    "\n",
    "# mix the data\n",
    "tmp = tmp.sample(frac=1, random_state=3)\n",
    "\n",
    "tmp.head()"
   ]
  },
  {
   "cell_type": "code",
   "execution_count": 30,
   "metadata": {},
   "outputs": [
    {
     "name": "stdout",
     "output_type": "stream",
     "text": [
      "There are 183 fraud datas in the test group\n",
      "Before oversampling, there are 309 frauds in the train set\n"
     ]
    }
   ],
   "source": [
    "print(\"There are {} fraud datas in the test group\".format((y_test == 1).sum()))\n",
    "print(\"Before oversampling, there are {} frauds in the train set\".format((tmp['Class'] == 1).sum()))"
   ]
  },
  {
   "cell_type": "code",
   "execution_count": 31,
   "metadata": {},
   "outputs": [
    {
     "data": {
      "text/plain": [
       "1    184815\n",
       "0    184815\n",
       "Name: Class, dtype: int64"
      ]
     },
     "execution_count": 31,
     "metadata": {},
     "output_type": "execute_result"
    }
   ],
   "source": [
    "# separate minority and majority classes in the train set\n",
    "not_fraud = tmp[tmp['Class'] == 0]\n",
    "fraud = tmp[tmp['Class'] == 1]\n",
    "\n",
    "# up-sample minority\n",
    "fraud_upsampled = resample(fraud,\n",
    "                          replace=True,                # sample with replacement\n",
    "                          n_samples=len(not_fraud))    # match number in majority class\n",
    "\n",
    "# combine majority and upsampled minority\n",
    "up_sampled = pd.concat([not_fraud, fraud_upsampled])\n",
    "\n",
    "# mix the data\n",
    "up_sampled = up_sampled.sample(frac=1, random_state=100)\n",
    "\n",
    "# check new class counts\n",
    "up_sampled['Class'].value_counts()"
   ]
  },
  {
   "cell_type": "code",
   "execution_count": 32,
   "metadata": {},
   "outputs": [
    {
     "data": {
      "text/plain": [
       "array([[97941,  1559],\n",
       "       [   24,   159]], dtype=int64)"
      ]
     },
     "execution_count": 32,
     "metadata": {},
     "output_type": "execute_result"
    }
   ],
   "source": [
    "# random forest\n",
    "rfc_pred = rfc.predict(X_test)\n",
    "cm = confusion_matrix(y_test, rfc_pred)\n",
    "cm"
   ]
  },
  {
   "cell_type": "code",
   "execution_count": 33,
   "metadata": {},
   "outputs": [
    {
     "name": "stdout",
     "output_type": "stream",
     "text": [
      "Using regular_over_smp_forest;\n",
      "Recall is 0.8688524590163934, \n",
      "Precision is 0.09254947613504075 \n",
      "Specificity 0.9843316582914573.\n",
      "f1 score is: 0.16728037874802737\n"
     ]
    }
   ],
   "source": [
    "# get values for lasso regression\n",
    "f1 = calc_values(cm, \"regular_over_smp_forest\")\n",
    "\n",
    "# append its f1 to dict\n",
    "f1_score.update({\"regular_over_smp_forest\": f1})"
   ]
  },
  {
   "cell_type": "code",
   "execution_count": 34,
   "metadata": {},
   "outputs": [],
   "source": [
    "# ROC curve forest\n",
    "y_pred_proba = rfc.predict_proba(X_test)[::,1]\n",
    "fpr1, tpr1, _ = metrics.roc_curve(y_test,  y_pred_proba)\n",
    "auc1 = metrics.roc_auc_score(y_test, y_pred_proba)"
   ]
  },
  {
   "cell_type": "code",
   "execution_count": 35,
   "metadata": {},
   "outputs": [
    {
     "data": {
      "text/plain": [
       "array([[95067,  4433],\n",
       "       [   16,   167]], dtype=int64)"
      ]
     },
     "execution_count": 35,
     "metadata": {},
     "output_type": "execute_result"
    }
   ],
   "source": [
    "# lasso regression\n",
    "lrg_pred = lrg.predict(X_test)\n",
    "cm = confusion_matrix(y_test, lrg_pred)\n",
    "cm"
   ]
  },
  {
   "cell_type": "code",
   "execution_count": 36,
   "metadata": {},
   "outputs": [
    {
     "name": "stdout",
     "output_type": "stream",
     "text": [
      "Using regular_over_smp_lasso;\n",
      "Recall is 0.912568306010929, \n",
      "Precision is 0.036304347826086956 \n",
      "Specificity 0.9554472361809045.\n",
      "f1 score is: 0.06983065021952749\n"
     ]
    }
   ],
   "source": [
    "# get values for lasso regression\n",
    "f1 = calc_values(cm, \"regular_over_smp_lasso\")\n",
    "\n",
    "# append its f1 to dict\n",
    "f1_score.update({\"regular_over_smp_lasso\": f1})"
   ]
  },
  {
   "cell_type": "code",
   "execution_count": 37,
   "metadata": {},
   "outputs": [],
   "source": [
    "# ROC Lasso\n",
    "y_pred_proba = lrg.predict_proba(X_test)[::,1]\n",
    "fpr2, tpr2, _ = metrics.roc_curve(y_test,  y_pred_proba)\n",
    "auc2 = metrics.roc_auc_score(y_test, y_pred_proba)"
   ]
  },
  {
   "cell_type": "code",
   "execution_count": 38,
   "metadata": {},
   "outputs": [
    {
     "data": {
      "image/png": "[encoded data removed]",
      "text/plain": [
       "<Figure size 432x288 with 1 Axes>"
      ]
     },
     "metadata": {
      "needs_background": "light"
     },
     "output_type": "display_data"
    }
   ],
   "source": [
    "# plot the two curves\n",
    "plt.plot(fpr1,tpr1,label=\"Random forest auc=\"+str(auc1))\n",
    "plt.plot(fpr2,tpr2,label=\"Lasso regression auc=\"+str(auc2))\n",
    "plt.legend(loc=4)\n",
    "plt.show()"
   ]
  },
  {
   "cell_type": "code",
   "execution_count": 39,
   "metadata": {},
   "outputs": [
    {
     "data": {
      "text/plain": [
       "{'under_sampled_forest': 0.9225589225589226,\n",
       " 'under_sampled_lasso': 0.935483870967742,\n",
       " 'SMOTE_random_forest': 0.15911602209944753,\n",
       " 'SMOTE_laso': 0.0671591672263264,\n",
       " 'regular_over_smp_forest': 0.16728037874802737,\n",
       " 'regular_over_smp_lasso': 0.06983065021952749}"
      ]
     },
     "execution_count": 39,
     "metadata": {},
     "output_type": "execute_result"
    }
   ],
   "source": [
    "f1_score"
   ]
  },
  {
   "cell_type": "markdown",
   "metadata": {},
   "source": [
    "## conclusion\n",
    "When looking at the f1 scores:\\begin{equation*} 2*\\frac{recall * precision}{recall + precision} \\end{equation*} the under-sampling the data seems to perform much better than the others, even though there might be some data loss. \n",
    "\n",
    "Also, in general, random forest performs better than lasso regression"
   ]
  }
 ],
 "metadata": {
  "kernelspec": {
   "display_name": "Python 3",
   "language": "python",
   "name": "python3"
  },
  "language_info": {
   "codemirror_mode": {
    "name": "ipython",
    "version": 3
   },
   "file_extension": ".py",
   "mimetype": "text/x-python",
   "name": "python",
   "nbconvert_exporter": "python",
   "pygments_lexer": "ipython3",
   "version": "3.7.3"
  }
 },
 "nbformat": 4,
 "nbformat_minor": 2
}
