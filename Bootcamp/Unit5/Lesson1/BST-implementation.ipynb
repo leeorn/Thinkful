{
 "cells": [
  {
   "cell_type": "markdown",
   "metadata": {},
   "source": [
    "## BST \n",
    "In this notebook I'll implement an insert and breadth-first traversal functions for a  binary search tree"
   ]
  },
  {
   "cell_type": "code",
   "execution_count": 1,
   "metadata": {},
   "outputs": [],
   "source": [
    "# Node class with value and 2 children\n",
    "class Node:\n",
    "    def __init__(self, val):\n",
    "        self.left = None\n",
    "        self.right = None\n",
    "        self.val = val  "
   ]
  },
  {
   "cell_type": "code",
   "execution_count": 2,
   "metadata": {},
   "outputs": [],
   "source": [
    "# Insert new nodes\n",
    "def insert(root, node):\n",
    "    # if it's the first node, it's the root\n",
    "    if root is None:\n",
    "        root = node\n",
    "\n",
    "    else:\n",
    "        # if the value is smaller or equal to the root; go left\n",
    "        if node.val <= root.val:\n",
    "            if root.left is None:\n",
    "                root.left = node\n",
    "            else:\n",
    "                insert(root.left, node)\n",
    "        # the value is larger than the root's value\n",
    "        else:\n",
    "            if root.right is None:\n",
    "                root.right = node\n",
    "            else:\n",
    "                insert(root.right, node)"
   ]
  },
  {
   "cell_type": "code",
   "execution_count": 3,
   "metadata": {},
   "outputs": [],
   "source": [
    "# breadth-first traversal using queue\n",
    "def print_tree(root):\n",
    "    # if tree is empty\n",
    "    if root is None:\n",
    "        return\n",
    "    # create queue and add the root\n",
    "    queue = []\n",
    "    queue.append(root)\n",
    "    \n",
    "    # will go over the all queue and print each value in FIFO order\n",
    "    while (len(queue) > 0):\n",
    "        # pop out the first element and print it\n",
    "        node = queue.pop(0)\n",
    "        print(node.val)\n",
    "        \n",
    "        # if have children, add them to the queue\n",
    "        if node.left is not None:\n",
    "            queue.append(node.left)\n",
    "            \n",
    "        if node.right is not None:\n",
    "            queue.append(node.right)\n",
    "        "
   ]
  },
  {
   "cell_type": "code",
   "execution_count": 4,
   "metadata": {},
   "outputs": [],
   "source": [
    "# to generate \"random\" numbers\n",
    "import random\n",
    "random.seed(a=3)\n",
    "\n",
    "# Create random value list.\n",
    "rand_list = list(random.sample(range(10000), 15))\n",
    "\n",
    "# list to store the nodes\n",
    "node_list = []\n",
    "\n",
    "# creates 15 new node variables (called node0, node2,..., node14) with value from the random list\n",
    "for i in range(15):\n",
    "    exec(\"node%s = Node(rand_list[%s])\" % (i, i))\n",
    "\n",
    "# create and insert to the tree\n",
    "insert(None,node0)\n",
    "insert(node0, node1)\n",
    "insert(node0, node2)\n",
    "insert(node0, node3)\n",
    "insert(node0, node4)\n",
    "insert(node0, node5)\n",
    "insert(node0, node6)\n",
    "insert(node0, node7)\n",
    "insert(node0, node8)\n",
    "insert(node0, node9)\n",
    "insert(node0, node10)\n",
    "insert(node0, node11)\n",
    "insert(node0, node12)\n",
    "insert(node0, node13)\n",
    "insert(node0, node14)"
   ]
  },
  {
   "cell_type": "code",
   "execution_count": 5,
   "metadata": {},
   "outputs": [
    {
     "name": "stdout",
     "output_type": "stream",
     "text": [
      "3898\n",
      "2136\n",
      "9709\n",
      "1073\n",
      "3839\n",
      "8916\n",
      "9894\n",
      "215\n",
      "6061\n",
      "9516\n",
      "9922\n",
      "4249\n",
      "7766\n",
      "9024\n",
      "7687\n"
     ]
    }
   ],
   "source": [
    "print_tree(node0)"
   ]
  },
  {
   "cell_type": "markdown",
   "metadata": {},
   "source": [
    "## What the output should be like\n",
    "for this random list: <br>\n",
    "3898,9709,8916,2136,6061,9894,7766,9516,1073,9922,215,7687,4249,9024,3839 <br>\n",
    "The output should be like (left to right): <br>\n",
    "Level 0: 3898 (root) <br>\n",
    "Level 1: 2136, 9709 <br>\n",
    "Level 2: 1037, 3839, 8916, 9894 <br>\n",
    "Level 3: 215, 6061, 9516, 9922 <br>\n",
    "Level 4: 4249, 7766, 9024 <br>\n",
    "Level 5: 7687 <br>"
   ]
  }
 ],
 "metadata": {
  "kernelspec": {
   "display_name": "Python 3",
   "language": "python",
   "name": "python3"
  },
  "language_info": {
   "codemirror_mode": {
    "name": "ipython",
    "version": 3
   },
   "file_extension": ".py",
   "mimetype": "text/x-python",
   "name": "python",
   "nbconvert_exporter": "python",
   "pygments_lexer": "ipython3",
   "version": "3.7.3"
  }
 },
 "nbformat": 4,
 "nbformat_minor": 2
}
